{
 "cells": [
  {
   "cell_type": "code",
   "execution_count": 2,
   "id": "fe22513c-9808-4e22-9b11-1f2c264598b5",
   "metadata": {},
   "outputs": [
    {
     "name": "stdout",
     "output_type": "stream",
     "text": [
      "hello world\n"
     ]
    }
   ],
   "source": [
    "print(\"hello world\")"
   ]
  },
  {
   "cell_type": "code",
   "execution_count": 3,
   "id": "253af870-a717-4130-97f3-c72bdb7561f6",
   "metadata": {},
   "outputs": [
    {
     "name": "stdout",
     "output_type": "stream",
     "text": [
      "hello world\n"
     ]
    }
   ],
   "source": [
    "print('hello world')"
   ]
  },
  {
   "cell_type": "code",
   "execution_count": 4,
   "id": "53a39754-8cc9-44f2-a0d7-4dc628973224",
   "metadata": {},
   "outputs": [
    {
     "name": "stdout",
     "output_type": "stream",
     "text": [
      "10\n"
     ]
    }
   ],
   "source": [
    "x=10\n",
    "print(x)"
   ]
  },
  {
   "cell_type": "code",
   "execution_count": 5,
   "id": "1e3a75e7-e70c-494a-9884-cdb38a9c326e",
   "metadata": {},
   "outputs": [
    {
     "name": "stdout",
     "output_type": "stream",
     "text": [
      "<class 'int'>\n"
     ]
    }
   ],
   "source": [
    "print(type(x))"
   ]
  },
  {
   "cell_type": "code",
   "execution_count": 6,
   "id": "a3ca67c2-62f6-488a-933d-4bed1a845758",
   "metadata": {},
   "outputs": [
    {
     "name": "stdout",
     "output_type": "stream",
     "text": [
      "<class 'str'>\n"
     ]
    }
   ],
   "source": [
    "x='10'\n",
    "print(type(x))"
   ]
  },
  {
   "cell_type": "code",
   "execution_count": 7,
   "id": "3b793da1-ce3e-41ef-9dfa-3300a7756384",
   "metadata": {},
   "outputs": [
    {
     "name": "stdout",
     "output_type": "stream",
     "text": [
      "my age is 30\n"
     ]
    }
   ],
   "source": [
    "age=30\n",
    "print(\"my age is\", age)"
   ]
  },
  {
   "cell_type": "code",
   "execution_count": 8,
   "id": "73ea529d-9b90-49c1-a0ef-cf7eb828243e",
   "metadata": {},
   "outputs": [
    {
     "name": "stdout",
     "output_type": "stream",
     "text": [
      "regex\n",
      "software\n"
     ]
    }
   ],
   "source": [
    "print('regex')\n",
    "print('software')"
   ]
  },
  {
   "cell_type": "code",
   "execution_count": 9,
   "id": "7a2ea905-cf46-4580-9ce2-23a997dab1bd",
   "metadata": {},
   "outputs": [
    {
     "name": "stdout",
     "output_type": "stream",
     "text": [
      "hi*hello\n",
      "user\n"
     ]
    }
   ],
   "source": [
    "print(\"hi\", end=\"*\")\n",
    "print(\"hello\")\n",
    "print(\"user\")"
   ]
  },
  {
   "cell_type": "code",
   "execution_count": 12,
   "id": "4f1fbb9b-821e-4278-abb5-aa23f530a969",
   "metadata": {},
   "outputs": [],
   "source": [
    "# documentation =>KT\n",
    "# documentation => comment"
   ]
  },
  {
   "cell_type": "code",
   "execution_count": 16,
   "id": "61e0789e-7b56-4f30-866f-453df7321150",
   "metadata": {},
   "outputs": [
    {
     "name": "stdout",
     "output_type": "stream",
     "text": [
      " b35\n",
      "basant bihar\n",
      "gopalpura\n"
     ]
    }
   ],
   "source": [
    "# Multiline string\n",
    "address=''' b35\n",
    "basant bihar\n",
    "gopalpura'''\n",
    "\n",
    "print(address)"
   ]
  },
  {
   "cell_type": "code",
   "execution_count": 17,
   "id": "2f75585d-0909-4112-878a-c45e0114f3b1",
   "metadata": {},
   "outputs": [
    {
     "name": "stdout",
     "output_type": "stream",
     "text": [
      " b35\n",
      "basant bihar\n",
      "gopalpura\n"
     ]
    }
   ],
   "source": [
    "address=\"\"\" b35\n",
    "basant bihar\n",
    "gopalpura\"\"\"\n",
    "\n",
    "print(address)"
   ]
  },
  {
   "cell_type": "code",
   "execution_count": 19,
   "id": "a317517e-6667-4b0a-a8b9-252156f9fee4",
   "metadata": {},
   "outputs": [
    {
     "name": "stdout",
     "output_type": "stream",
     "text": [
      "year is  2025 company is regex\n"
     ]
    }
   ],
   "source": [
    "# String formatting\n",
    "year= 2025\n",
    "company = \"regex\"\n",
    "print(\"year is \", year, \"company is\", company)"
   ]
  },
  {
   "cell_type": "code",
   "execution_count": 20,
   "id": "2a96286f-a26f-48c3-9b15-2c29c499ac35",
   "metadata": {},
   "outputs": [
    {
     "name": "stdout",
     "output_type": "stream",
     "text": [
      "year is 2025 company is regex\n"
     ]
    }
   ],
   "source": [
    "print(f\"year is {year} company is {company}\")"
   ]
  },
  {
   "cell_type": "code",
   "execution_count": 22,
   "id": "dec6e0b1-d173-4fb7-b614-718449e576a0",
   "metadata": {},
   "outputs": [
    {
     "name": "stdout",
     "output_type": "stream",
     "text": [
      "hey user govind\n",
      "hey user govind\n"
     ]
    }
   ],
   "source": [
    "username=\"govind\"\n",
    "msg=f\"hey user {username}\"\n",
    "\n",
    "print(msg)\n",
    "username=\"karan\"\n",
    "print(msg)"
   ]
  },
  {
   "cell_type": "code",
   "execution_count": 23,
   "id": "3662fb7a-da97-477d-bd39-4c78c87cc8f6",
   "metadata": {},
   "outputs": [
    {
     "data": {
      "text/plain": [
       "'year is 2025'"
      ]
     },
     "execution_count": 23,
     "metadata": {},
     "output_type": "execute_result"
    }
   ],
   "source": [
    "# .format method\n",
    "\"year is {}\".format(2025)"
   ]
  },
  {
   "cell_type": "code",
   "execution_count": 27,
   "id": "a6225c09-4b41-4bce-b34e-6458175abe75",
   "metadata": {},
   "outputs": [
    {
     "data": {
      "text/plain": [
       "'year is 2025 company name is regex'"
      ]
     },
     "execution_count": 27,
     "metadata": {},
     "output_type": "execute_result"
    }
   ],
   "source": [
    "\"year is {} company name is {}\".format(2025,\"regex\")"
   ]
  },
  {
   "cell_type": "code",
   "execution_count": 28,
   "id": "d5d2d3fd-f53f-4f2f-a3c5-126dd0b87636",
   "metadata": {},
   "outputs": [
    {
     "data": {
      "text/plain": [
       "'year is 2025 company name is regex'"
      ]
     },
     "execution_count": 28,
     "metadata": {},
     "output_type": "execute_result"
    }
   ],
   "source": [
    "year =2025\n",
    "company=\"regex\"\n",
    "\"year is {} company name is {}\".format(year, company)"
   ]
  },
  {
   "cell_type": "code",
   "execution_count": 29,
   "id": "5f37d908-9199-449d-836f-e61a036edef7",
   "metadata": {},
   "outputs": [
    {
     "data": {
      "text/plain": [
       "'year is regex company name is 2025'"
      ]
     },
     "execution_count": 29,
     "metadata": {},
     "output_type": "execute_result"
    }
   ],
   "source": [
    "year =2025\n",
    "company=\"regex\"\n",
    "\"year is {} company name is {}\".format(company, year)"
   ]
  },
  {
   "cell_type": "code",
   "execution_count": 30,
   "id": "a5a4c85b-6850-4934-a900-83f706fd6956",
   "metadata": {},
   "outputs": [
    {
     "name": "stdout",
     "output_type": "stream",
     "text": [
      "Govind Singh Jadoun\n"
     ]
    }
   ],
   "source": [
    "print(\"Govind\", end= \" \")\n",
    "print(\"Singh Jadoun\")"
   ]
  },
  {
   "cell_type": "code",
   "execution_count": null,
   "id": "4f31c425-ddb4-463c-9aa7-1139661fc11b",
   "metadata": {},
   "outputs": [],
   "source": []
  }
 ],
 "metadata": {
  "kernelspec": {
   "display_name": "Python 3 (ipykernel)",
   "language": "python",
   "name": "python3"
  },
  "language_info": {
   "codemirror_mode": {
    "name": "ipython",
    "version": 3
   },
   "file_extension": ".py",
   "mimetype": "text/x-python",
   "name": "python",
   "nbconvert_exporter": "python",
   "pygments_lexer": "ipython3",
   "version": "3.13.1"
  }
 },
 "nbformat": 4,
 "nbformat_minor": 5
}
