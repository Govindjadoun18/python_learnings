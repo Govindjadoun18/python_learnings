{
 "cells": [
  {
   "cell_type": "code",
   "execution_count": 5,
   "id": "6139ea90-fd44-4911-bd90-2c9442cff8a7",
   "metadata": {},
   "outputs": [
    {
     "name": "stdout",
     "output_type": "stream",
     "text": [
      "memory address of age 2184689091088\n",
      "memory address of x 2184689091088\n",
      "new memory address of x 2184689091408 2184689091088\n"
     ]
    }
   ],
   "source": [
    "age=10\n",
    "print(\"memory address of age\", id(age))\n",
    "\n",
    "x=age\n",
    "print(\"memory address of x\", id(x))\n",
    "\n",
    "x=20\n",
    "print(\"new memory address of x\", id(x), id(age))"
   ]
  },
  {
   "cell_type": "code",
   "execution_count": 4,
   "id": "6aae6a1e-801f-4902-8bc3-07dc3881ae5f",
   "metadata": {},
   "outputs": [
    {
     "name": "stdout",
     "output_type": "stream",
     "text": [
      "<class 'list'>\n",
      "10\n"
     ]
    }
   ],
   "source": [
    "mylist=[10,20,\"abc\"]\n",
    "print(type(mylist))\n",
    "print( mylist[0])\n"
   ]
  },
  {
   "cell_type": "code",
   "execution_count": 10,
   "id": "dd5f9088-fe9c-45c1-809a-a0d623137c6f",
   "metadata": {},
   "outputs": [
    {
     "name": "stdout",
     "output_type": "stream",
     "text": [
      "[10, 20, 'abc', 90, 90, 90]\n",
      "[10, 20, 'abc', 90, 90, 90, 90]\n"
     ]
    }
   ],
   "source": [
    "print(mylist)\n",
    "mylist.append(90) \n",
    "print(mylist)"
   ]
  },
  {
   "cell_type": "code",
   "execution_count": 13,
   "id": "f09fe49a-6836-415c-8355-42294ebffcef",
   "metadata": {},
   "outputs": [
    {
     "name": "stdout",
     "output_type": "stream",
     "text": [
      "[10, 20, 'abc', 90, 100]\n",
      "[10, 'govind', 20, 'abc', 90, 100]\n"
     ]
    }
   ],
   "source": [
    "list=[10,20,'abc', 90,100]\n",
    "print(list)\n",
    "list.insert(1,'govind')\n",
    "print(list)"
   ]
  },
  {
   "cell_type": "code",
   "execution_count": 14,
   "id": "2d06327c-12ca-4144-b943-cf04d512690f",
   "metadata": {},
   "outputs": [
    {
     "name": "stdout",
     "output_type": "stream",
     "text": [
      "[67, 'govind', 20, 'abc', 90, 100]\n"
     ]
    }
   ],
   "source": [
    "list[0]=67\n",
    "print(list)"
   ]
  },
  {
   "cell_type": "code",
   "execution_count": 15,
   "id": "b9883b77-5146-4ea4-9741-c8fdd4a7fbab",
   "metadata": {},
   "outputs": [
    {
     "name": "stdout",
     "output_type": "stream",
     "text": [
      "[67, 'govind', 20, 'abc', 90]\n"
     ]
    }
   ],
   "source": [
    "x=list.pop()\n",
    "print(list)"
   ]
  },
  {
   "cell_type": "code",
   "execution_count": 18,
   "id": "57217129-16a4-4214-84f9-ba3647143c83",
   "metadata": {},
   "outputs": [
    {
     "ename": "TypeError",
     "evalue": "'<' not supported between instances of 'str' and 'int'",
     "output_type": "error",
     "traceback": [
      "\u001b[1;31m---------------------------------------------------------------------------\u001b[0m",
      "\u001b[1;31mTypeError\u001b[0m                                 Traceback (most recent call last)",
      "Cell \u001b[1;32mIn[18], line 1\u001b[0m\n\u001b[1;32m----> 1\u001b[0m \u001b[38;5;28;43mlist\u001b[39;49m\u001b[38;5;241;43m.\u001b[39;49m\u001b[43msort\u001b[49m\u001b[43m(\u001b[49m\u001b[43m)\u001b[49m\n\u001b[0;32m      2\u001b[0m \u001b[38;5;28mprint\u001b[39m(\u001b[38;5;28mlist\u001b[39m)\n",
      "\u001b[1;31mTypeError\u001b[0m: '<' not supported between instances of 'str' and 'int'"
     ]
    }
   ],
   "source": [
    "list.sort()\n",
    "print(list)"
   ]
  },
  {
   "cell_type": "code",
   "execution_count": 19,
   "id": "afc36d32-b78c-4c1e-a372-583e35b5724a",
   "metadata": {},
   "outputs": [
    {
     "name": "stdout",
     "output_type": "stream",
     "text": [
      "[1, 8, 10, 12, 20, 30, 48]\n"
     ]
    }
   ],
   "source": [
    "x=[10,20,30,48,12,1,8]\n",
    "x.sort()\n",
    "print(x)"
   ]
  },
  {
   "cell_type": "code",
   "execution_count": 20,
   "id": "4e528c9c-62d9-496e-b8aa-2d4408a8386e",
   "metadata": {},
   "outputs": [
    {
     "name": "stdout",
     "output_type": "stream",
     "text": [
      "[48, 30, 20, 12, 10, 8, 1]\n"
     ]
    }
   ],
   "source": [
    "x.reverse()\n",
    "print(x)"
   ]
  },
  {
   "cell_type": "code",
   "execution_count": 21,
   "id": "285a386e-dfd2-44d4-a580-69c6adc66341",
   "metadata": {},
   "outputs": [
    {
     "name": "stdout",
     "output_type": "stream",
     "text": [
      "10\n",
      "12\n",
      "34\n",
      "56\n",
      "71\n",
      "14\n"
     ]
    }
   ],
   "source": [
    "list1=[10,12,34,56,71,14]\n",
    "for i in list1:\n",
    "    print(i)"
   ]
  },
  {
   "cell_type": "code",
   "execution_count": 24,
   "id": "c75ec969-5916-421f-b183-d2fea79b6434",
   "metadata": {},
   "outputs": [
    {
     "name": "stdout",
     "output_type": "stream",
     "text": [
      "0 10\n",
      "1 12\n",
      "2 34\n",
      "3 56\n",
      "4 71\n",
      "5 14\n",
      "6 34\n"
     ]
    }
   ],
   "source": [
    "list2=[10,12,34,56,71,14,34]\n",
    "for i in range(0, len(list2)):\n",
    "    print(i, list2[i])"
   ]
  },
  {
   "cell_type": "code",
   "execution_count": 30,
   "id": "e22daee0-99d7-4974-ade8-73f665cf833a",
   "metadata": {},
   "outputs": [
    {
     "name": "stdout",
     "output_type": "stream",
     "text": [
      "2 34\n",
      "3 56\n",
      "4 71\n",
      "6 34\n"
     ]
    }
   ],
   "source": [
    "list2=[10,12,34,56,71,14,34]\n",
    "for i in range(0, len(list2)):\n",
    "    if(list2[i]>20):\n",
    "        print(i, list2[i])"
   ]
  },
  {
   "cell_type": "code",
   "execution_count": 35,
   "id": "8929b4ce-0739-4bbd-9af3-394b91183497",
   "metadata": {},
   "outputs": [
    {
     "name": "stdout",
     "output_type": "stream",
     "text": [
      "[23, 45, 67]\n"
     ]
    }
   ],
   "source": [
    "l=[12,23,34,45,67,32]\n",
    "l1=[]\n",
    "for i in range(0, len(l)):\n",
    "    if(l[i]%2!=0):\n",
    "        l1.append(l[i])\n",
    "print(l1)"
   ]
  },
  {
   "cell_type": "code",
   "execution_count": 37,
   "id": "4e100812-0fb9-44a6-bb5d-e59992f7eefb",
   "metadata": {},
   "outputs": [
    {
     "name": "stdout",
     "output_type": "stream",
     "text": [
      "[5]\n"
     ]
    }
   ],
   "source": [
    "l=[12,23,34,5,67,32]\n",
    "l1=[]\n",
    "min=l[0]\n",
    "for i in range(0, len(l)):\n",
    "    if(l[i]<min):\n",
    "        l1.append(l[i])\n",
    "    \n",
    "print(l1)"
   ]
  },
  {
   "cell_type": "code",
   "execution_count": null,
   "id": "0dd0f59f-d025-4e97-ac88-d1c339f52e5b",
   "metadata": {},
   "outputs": [],
   "source": []
  }
 ],
 "metadata": {
  "kernelspec": {
   "display_name": "Python 3 (ipykernel)",
   "language": "python",
   "name": "python3"
  },
  "language_info": {
   "codemirror_mode": {
    "name": "ipython",
    "version": 3
   },
   "file_extension": ".py",
   "mimetype": "text/x-python",
   "name": "python",
   "nbconvert_exporter": "python",
   "pygments_lexer": "ipython3",
   "version": "3.10.11"
  }
 },
 "nbformat": 4,
 "nbformat_minor": 5
}
