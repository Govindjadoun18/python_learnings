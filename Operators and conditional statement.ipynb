{
 "cells": [
  {
   "cell_type": "code",
   "execution_count": 1,
   "id": "3ee3b028-472b-44ce-b665-6dd5367e80c0",
   "metadata": {},
   "outputs": [],
   "source": [
    "# Operators"
   ]
  },
  {
   "cell_type": "code",
   "execution_count": 2,
   "id": "9e27aa28-4fc1-408c-9b9f-b8c5be64d9e6",
   "metadata": {},
   "outputs": [],
   "source": [
    "# Arithmetic Operator"
   ]
  },
  {
   "cell_type": "code",
   "execution_count": 3,
   "id": "d1dc9e48-e84c-4804-bfd7-196c359146a6",
   "metadata": {},
   "outputs": [
    {
     "data": {
      "text/plain": [
       "3"
      ]
     },
     "execution_count": 3,
     "metadata": {},
     "output_type": "execute_result"
    }
   ],
   "source": [
    "1+2"
   ]
  },
  {
   "cell_type": "code",
   "execution_count": 5,
   "id": "df3a343b-aa3e-4f65-be50-a0d5987b9fc2",
   "metadata": {},
   "outputs": [
    {
     "data": {
      "text/plain": [
       "5.0"
      ]
     },
     "execution_count": 5,
     "metadata": {},
     "output_type": "execute_result"
    }
   ],
   "source": [
    "10/2"
   ]
  },
  {
   "cell_type": "code",
   "execution_count": 7,
   "id": "b04a1000-e6dd-498c-a389-1a661aa5edf3",
   "metadata": {},
   "outputs": [
    {
     "data": {
      "text/plain": [
       "5"
      ]
     },
     "execution_count": 7,
     "metadata": {},
     "output_type": "execute_result"
    }
   ],
   "source": [
    "10//2 # floor division"
   ]
  },
  {
   "cell_type": "markdown",
   "id": "3778f64e-360f-4fd4-97f9-9885ecbd7e1d",
   "metadata": {},
   "source": []
  },
  {
   "cell_type": "code",
   "execution_count": 8,
   "id": "e957e110-cbe2-403f-87c9-956d36b1a88b",
   "metadata": {},
   "outputs": [
    {
     "data": {
      "text/plain": [
       "2"
      ]
     },
     "execution_count": 8,
     "metadata": {},
     "output_type": "execute_result"
    }
   ],
   "source": [
    "20%3"
   ]
  },
  {
   "cell_type": "code",
   "execution_count": 9,
   "id": "5ee7e174-7fb0-4f33-b4b4-b906b9ad6dbe",
   "metadata": {},
   "outputs": [
    {
     "data": {
      "text/plain": [
       "8"
      ]
     },
     "execution_count": 9,
     "metadata": {},
     "output_type": "execute_result"
    }
   ],
   "source": [
    "2**3"
   ]
  },
  {
   "cell_type": "code",
   "execution_count": 10,
   "id": "2733e873-dfd5-48c5-8f34-4a0d22f7b5fd",
   "metadata": {},
   "outputs": [
    {
     "data": {
      "text/plain": [
       "81"
      ]
     },
     "execution_count": 10,
     "metadata": {},
     "output_type": "execute_result"
    }
   ],
   "source": [
    "3**4"
   ]
  },
  {
   "cell_type": "code",
   "execution_count": 11,
   "id": "77908d96-e9ca-4deb-a275-da4d1d6fe962",
   "metadata": {},
   "outputs": [],
   "source": [
    "# int=> 4 byte\n",
    "# float=> 8 byte"
   ]
  },
  {
   "cell_type": "code",
   "execution_count": 12,
   "id": "baae01a5-81f1-45c9-a55a-f20f627b5515",
   "metadata": {},
   "outputs": [
    {
     "data": {
      "text/plain": [
       "21.0"
      ]
     },
     "execution_count": 12,
     "metadata": {},
     "output_type": "execute_result"
    }
   ],
   "source": [
    "20+1.0"
   ]
  },
  {
   "cell_type": "code",
   "execution_count": 13,
   "id": "a9c07c3a-a4a7-4a02-b2c4-2783b21e11a7",
   "metadata": {},
   "outputs": [
    {
     "data": {
      "text/plain": [
       "30.599999999999998"
      ]
     },
     "execution_count": 13,
     "metadata": {},
     "output_type": "execute_result"
    }
   ],
   "source": [
    "10.2*3"
   ]
  },
  {
   "cell_type": "code",
   "execution_count": 14,
   "id": "665d4e00-e9c3-4e30-91c2-5efe32eb6c60",
   "metadata": {},
   "outputs": [],
   "source": [
    "# Arithmetic\n",
    "# **\n",
    "# * / // % \n",
    "# + - "
   ]
  },
  {
   "cell_type": "code",
   "execution_count": 15,
   "id": "6b552c55-7517-4c66-b433-dc4bf4641fe3",
   "metadata": {},
   "outputs": [
    {
     "data": {
      "text/plain": [
       "1.0"
      ]
     },
     "execution_count": 15,
     "metadata": {},
     "output_type": "execute_result"
    }
   ],
   "source": [
    "10+3-2*5/1-2"
   ]
  },
  {
   "cell_type": "code",
   "execution_count": 16,
   "id": "2faba378-67e7-44d0-ad53-d2c0898db18d",
   "metadata": {},
   "outputs": [
    {
     "data": {
      "text/plain": [
       "False"
      ]
     },
     "execution_count": 16,
     "metadata": {},
     "output_type": "execute_result"
    }
   ],
   "source": [
    "# Comparision operator   >, >=, <, <=, !=\n",
    "x=10\n",
    "\n",
    "x==20"
   ]
  },
  {
   "cell_type": "code",
   "execution_count": 18,
   "id": "aba913e7-55ad-408e-8876-0d8966c9b7f8",
   "metadata": {},
   "outputs": [
    {
     "name": "stdout",
     "output_type": "stream",
     "text": [
      "19\n"
     ]
    }
   ],
   "source": [
    "# Assignment operator //=, /=, *=, +=, -=, %=\n",
    "\n",
    "age=19\n",
    "age+5\n",
    "print(age)"
   ]
  },
  {
   "cell_type": "code",
   "execution_count": 19,
   "id": "6657a852-b19a-4f57-936c-3d0e090995db",
   "metadata": {},
   "outputs": [
    {
     "name": "stdout",
     "output_type": "stream",
     "text": [
      "23\n"
     ]
    }
   ],
   "source": [
    "age=19\n",
    "age=age+4\n",
    "print(age)"
   ]
  },
  {
   "cell_type": "code",
   "execution_count": 20,
   "id": "99f96f96-a447-4ddb-bf6c-22ae81b4dd5d",
   "metadata": {},
   "outputs": [
    {
     "name": "stdout",
     "output_type": "stream",
     "text": [
      "3\n"
     ]
    }
   ],
   "source": [
    "age=19\n",
    "age//=5\n",
    "print(age)"
   ]
  },
  {
   "cell_type": "code",
   "execution_count": 21,
   "id": "ac595fb9-d005-49b8-85ef-2ec030077d7a",
   "metadata": {},
   "outputs": [
    {
     "data": {
      "text/plain": [
       "True"
      ]
     },
     "execution_count": 21,
     "metadata": {},
     "output_type": "execute_result"
    }
   ],
   "source": [
    "# Logical Operator\n",
    "x=10\n",
    "\n",
    "x>5"
   ]
  },
  {
   "cell_type": "code",
   "execution_count": 22,
   "id": "c68543df-44ea-46fb-ba18-65fac1bff8a8",
   "metadata": {},
   "outputs": [
    {
     "data": {
      "text/plain": [
       "False"
      ]
     },
     "execution_count": 22,
     "metadata": {},
     "output_type": "execute_result"
    }
   ],
   "source": [
    "x=10\n",
    "x>5 and x>12"
   ]
  },
  {
   "cell_type": "code",
   "execution_count": 24,
   "id": "482e31dd-2d22-47ae-b6f5-757a32f26b16",
   "metadata": {},
   "outputs": [
    {
     "data": {
      "text/plain": [
       "True"
      ]
     },
     "execution_count": 24,
     "metadata": {},
     "output_type": "execute_result"
    }
   ],
   "source": [
    "x=10\n",
    "(x>5 and x>12) or x==10"
   ]
  },
  {
   "cell_type": "code",
   "execution_count": 25,
   "id": "1696ab86-8c5d-4a3a-9dff-01eeb19ab169",
   "metadata": {},
   "outputs": [
    {
     "data": {
      "text/plain": [
       "False"
      ]
     },
     "execution_count": 25,
     "metadata": {},
     "output_type": "execute_result"
    }
   ],
   "source": [
    "x=True\n",
    "not x"
   ]
  },
  {
   "cell_type": "code",
   "execution_count": 26,
   "id": "03afd3b2-e640-47d3-bf65-d3413151363f",
   "metadata": {},
   "outputs": [
    {
     "data": {
      "text/plain": [
       "True"
      ]
     },
     "execution_count": 26,
     "metadata": {},
     "output_type": "execute_result"
    }
   ],
   "source": [
    "x=0\n",
    "not x"
   ]
  },
  {
   "cell_type": "code",
   "execution_count": 27,
   "id": "b7948f81-838c-4e93-bef9-4394682728bf",
   "metadata": {},
   "outputs": [
    {
     "data": {
      "text/plain": [
       "True"
      ]
     },
     "execution_count": 27,
     "metadata": {},
     "output_type": "execute_result"
    }
   ],
   "source": [
    "# Membership Operator\n",
    "\"y\" in \"yash\""
   ]
  },
  {
   "cell_type": "code",
   "execution_count": 28,
   "id": "531fe9b9-a59d-49c2-bcd0-49ed89aac811",
   "metadata": {},
   "outputs": [
    {
     "data": {
      "text/plain": [
       "False"
      ]
     },
     "execution_count": 28,
     "metadata": {},
     "output_type": "execute_result"
    }
   ],
   "source": [
    "\"Y\" in \"yash\" # python is case sensitive"
   ]
  },
  {
   "cell_type": "code",
   "execution_count": 29,
   "id": "34993d82-0e8f-4338-a532-654246db2a78",
   "metadata": {},
   "outputs": [
    {
     "data": {
      "text/plain": [
       "True"
      ]
     },
     "execution_count": 29,
     "metadata": {},
     "output_type": "execute_result"
    }
   ],
   "source": [
    "10 in [10,20,30]"
   ]
  },
  {
   "cell_type": "code",
   "execution_count": 30,
   "id": "1bf3e254-0314-45f2-9400-ff674b2140ab",
   "metadata": {},
   "outputs": [
    {
     "data": {
      "text/plain": [
       "True"
      ]
     },
     "execution_count": 30,
     "metadata": {},
     "output_type": "execute_result"
    }
   ],
   "source": [
    "\"Y\" not  in \"yash\""
   ]
  },
  {
   "cell_type": "code",
   "execution_count": 31,
   "id": "e32fc1c2-e699-44a9-a736-a2bfebc729bd",
   "metadata": {},
   "outputs": [
    {
     "data": {
      "text/plain": [
       "False"
      ]
     },
     "execution_count": 31,
     "metadata": {},
     "output_type": "execute_result"
    }
   ],
   "source": [
    "\"as\" not in \"yash\""
   ]
  },
  {
   "cell_type": "code",
   "execution_count": 35,
   "id": "09df701c-cd54-42fa-a50d-881571136ae6",
   "metadata": {},
   "outputs": [],
   "source": [
    "# Identity Operator\n",
    "# it's used to check whether a object belong to a class \n",
    "# to check the datatype\n",
    "# to check the memory address of the variable"
   ]
  },
  {
   "cell_type": "code",
   "execution_count": 36,
   "id": "020158d8-18cf-4623-b555-00545d7f554a",
   "metadata": {},
   "outputs": [
    {
     "name": "stdout",
     "output_type": "stream",
     "text": [
      "<class 'str'>\n"
     ]
    }
   ],
   "source": [
    "x=\"abc\"\n",
    "print(type(x))"
   ]
  },
  {
   "cell_type": "code",
   "execution_count": 38,
   "id": "530037a0-b0d4-42b5-8af0-ade77c8a3f97",
   "metadata": {},
   "outputs": [
    {
     "name": "stdout",
     "output_type": "stream",
     "text": [
      "<class 'int'>\n"
     ]
    }
   ],
   "source": [
    "y=10\n",
    "print(type(y))"
   ]
  },
  {
   "cell_type": "code",
   "execution_count": 39,
   "id": "f4bbea8e-abbf-4344-9165-6ab92a7d782a",
   "metadata": {},
   "outputs": [
    {
     "data": {
      "text/plain": [
       "True"
      ]
     },
     "execution_count": 39,
     "metadata": {},
     "output_type": "execute_result"
    }
   ],
   "source": [
    "type(y) is int"
   ]
  },
  {
   "cell_type": "code",
   "execution_count": 40,
   "id": "1896a5d4-cf75-4846-9d61-9647763671e1",
   "metadata": {},
   "outputs": [
    {
     "data": {
      "text/plain": [
       "False"
      ]
     },
     "execution_count": 40,
     "metadata": {},
     "output_type": "execute_result"
    }
   ],
   "source": [
    "type(y) is str"
   ]
  },
  {
   "cell_type": "code",
   "execution_count": 44,
   "id": "09b8d8b4-27d5-4515-ba00-181f45588f91",
   "metadata": {},
   "outputs": [
    {
     "name": "stdout",
     "output_type": "stream",
     "text": [
      "x 2057108324592\n",
      "y 2057108324592\n"
     ]
    },
    {
     "data": {
      "text/plain": [
       "True"
      ]
     },
     "execution_count": 44,
     "metadata": {},
     "output_type": "execute_result"
    }
   ],
   "source": [
    "x=600\n",
    "print(\"x\", id(x))\n",
    "y=x # reference is same (memory)\n",
    "print(\"y\", id(y))\n",
    "x is y"
   ]
  },
  {
   "cell_type": "code",
   "execution_count": 45,
   "id": "a2fc221a-93db-41ee-91a5-9f7b7ee84493",
   "metadata": {},
   "outputs": [
    {
     "name": "stdout",
     "output_type": "stream",
     "text": [
      "x 2057107029936\n",
      "y 2057107029904\n"
     ]
    },
    {
     "data": {
      "text/plain": [
       "False"
      ]
     },
     "execution_count": 45,
     "metadata": {},
     "output_type": "execute_result"
    }
   ],
   "source": [
    "x=600\n",
    "print(\"x\", id(x))\n",
    "y=600  # new memory address\n",
    "print(\"y\", id(y))\n",
    "x is y"
   ]
  },
  {
   "cell_type": "code",
   "execution_count": 48,
   "id": "0e371ff5-0561-4cec-a8bc-d21dca423718",
   "metadata": {},
   "outputs": [
    {
     "name": "stdout",
     "output_type": "stream",
     "text": [
      "hey user\n"
     ]
    }
   ],
   "source": [
    "# Conditional statement\n",
    "\n",
    "print(\"hey user\")"
   ]
  },
  {
   "cell_type": "code",
   "execution_count": 49,
   "id": "ea74d9bb-7da9-46e7-8dc1-f35b4bf19386",
   "metadata": {},
   "outputs": [
    {
     "data": {
      "text/plain": [
       "'\\nif(condition <= True):\\n    statement/ expression\\n'"
      ]
     },
     "execution_count": 49,
     "metadata": {},
     "output_type": "execute_result"
    }
   ],
   "source": [
    "'''\n",
    "if(condition <= True):\n",
    "    statement/ expression\n",
    "'''"
   ]
  },
  {
   "cell_type": "code",
   "execution_count": 50,
   "id": "e2e9ef7f-9f30-46ad-a93f-7fe536cd006a",
   "metadata": {},
   "outputs": [
    {
     "name": "stdout",
     "output_type": "stream",
     "text": [
      "hello\n"
     ]
    }
   ],
   "source": [
    "if(True):\n",
    "    print(\"hello\")"
   ]
  },
  {
   "cell_type": "code",
   "execution_count": 52,
   "id": "5d47c9d5-7170-4a9a-a942-69964901354e",
   "metadata": {},
   "outputs": [
    {
     "name": "stdout",
     "output_type": "stream",
     "text": [
      "hello\n"
     ]
    }
   ],
   "source": [
    "age =18\n",
    "if(age==18):\n",
    "    print(\"hello\")"
   ]
  },
  {
   "cell_type": "code",
   "execution_count": 53,
   "id": "5974e386-0481-4133-93d5-4a39f5553a93",
   "metadata": {},
   "outputs": [
    {
     "name": "stdout",
     "output_type": "stream",
     "text": [
      "age is greater than 18\n"
     ]
    }
   ],
   "source": [
    "age=19\n",
    "if(age==18):\n",
    "    print(\"hey user\")\n",
    "else:\n",
    "    print(\"age is greater than 18\")"
   ]
  },
  {
   "cell_type": "code",
   "execution_count": 54,
   "id": "444c36a4-6e83-4432-b9d0-d106facba8e3",
   "metadata": {},
   "outputs": [],
   "source": [
    "# even=> even"
   ]
  },
  {
   "cell_type": "code",
   "execution_count": 57,
   "id": "fd7ccbc5-8811-434e-8c5d-412370c034de",
   "metadata": {},
   "outputs": [
    {
     "name": "stdout",
     "output_type": "stream",
     "text": [
      "Number is divisible by 2 and 5\n"
     ]
    }
   ],
   "source": [
    "num=20\n",
    "if(num%2==0 and num%5==0):\n",
    "    print(\"Number is divisible by 2 and 5\")\n",
    "else:\n",
    "    print(\"Not divisible\")\n",
    "\n",
    "    "
   ]
  },
  {
   "cell_type": "code",
   "execution_count": 65,
   "id": "4d3a0ac2-e077-4c23-b262-39a78e0fb678",
   "metadata": {},
   "outputs": [],
   "source": [
    "num=28\n",
    "if(num%2==0):\n",
    "    if(num%5==0):\n",
    "        print(\"Number is divisible by 2 and  5\")\n",
    "    else:\n",
    "        (\"Number is divisible by 2 but not by 5\")\n",
    "else:\n",
    "    print(\"Number is not divisible\")"
   ]
  },
  {
   "cell_type": "code",
   "execution_count": null,
   "id": "b7e5ff9a-2697-4b20-b8a1-6b3b72ebd158",
   "metadata": {},
   "outputs": [],
   "source": [
    "a=6\n",
    "b=8\n",
    "c=3\n",
    "if(a<b and a<c):\n",
    "    print(\"a is smallest\")\n",
    "elif(b<a and b<c):\n",
    "    print(\"b is smallest\")\n",
    "else:\n",
    "    print(\"c is"
   ]
  }
 ],
 "metadata": {
  "kernelspec": {
   "display_name": "Python 3 (ipykernel)",
   "language": "python",
   "name": "python3"
  },
  "language_info": {
   "codemirror_mode": {
    "name": "ipython",
    "version": 3
   },
   "file_extension": ".py",
   "mimetype": "text/x-python",
   "name": "python",
   "nbconvert_exporter": "python",
   "pygments_lexer": "ipython3",
   "version": "3.13.1"
  }
 },
 "nbformat": 4,
 "nbformat_minor": 5
}
