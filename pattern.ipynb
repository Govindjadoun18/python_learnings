{
 "cells": [
  {
   "cell_type": "code",
   "execution_count": 1,
   "id": "956ce1db-0fac-45ec-b18d-7acd18031cb5",
   "metadata": {},
   "outputs": [
    {
     "name": "stdout",
     "output_type": "stream",
     "text": [
      "student 1\n",
      "subject=> 1\n",
      "subject=> 2\n",
      "subject=> 3\n",
      "subject=> 4\n",
      "subject=> 5\n",
      "student 2\n",
      "subject=> 1\n",
      "subject=> 2\n",
      "subject=> 3\n",
      "subject=> 4\n",
      "subject=> 5\n",
      "student 3\n",
      "subject=> 1\n",
      "subject=> 2\n",
      "subject=> 3\n",
      "subject=> 4\n",
      "subject=> 5\n",
      "student 4\n",
      "subject=> 1\n",
      "subject=> 2\n",
      "subject=> 3\n",
      "subject=> 4\n",
      "subject=> 5\n"
     ]
    }
   ],
   "source": [
    "for i in range(1,5):\n",
    "    print(\"student\",i)\n",
    "\n",
    "    for subject in range(1,6):\n",
    "        print(\"subject=>\", subject)"
   ]
  },
  {
   "cell_type": "code",
   "execution_count": 2,
   "id": "9e8d5f93-0157-47b9-9271-f2b475c17e04",
   "metadata": {},
   "outputs": [
    {
     "name": "stdout",
     "output_type": "stream",
     "text": [
      "student 1\n",
      "subject=> 1\n",
      "student 2\n",
      "subject=> 1\n",
      "subject=> 2\n",
      "student 3\n",
      "subject=> 1\n",
      "subject=> 2\n",
      "subject=> 3\n",
      "student 4\n",
      "subject=> 1\n",
      "subject=> 2\n",
      "subject=> 3\n",
      "subject=> 4\n",
      "student 5\n",
      "subject=> 1\n",
      "subject=> 2\n",
      "subject=> 3\n",
      "subject=> 4\n",
      "subject=> 5\n"
     ]
    }
   ],
   "source": [
    "for i in range(1,6):\n",
    "    print(\"student\", i)\n",
    "\n",
    "    for subject in range(1,i+1):\n",
    "        print(\"subject=>\", subject)\n",
    "    "
   ]
  },
  {
   "cell_type": "code",
   "execution_count": 3,
   "id": "9ee80be8-8ac2-40db-bb5f-3863aa7ce20e",
   "metadata": {},
   "outputs": [
    {
     "name": "stdout",
     "output_type": "stream",
     "text": [
      "student 5\n",
      "subject=> 5\n",
      "student 4\n",
      "subject=> 4\n",
      "subject=> 5\n",
      "student 3\n",
      "subject=> 3\n",
      "subject=> 4\n",
      "subject=> 5\n",
      "student 2\n",
      "subject=> 2\n",
      "subject=> 3\n",
      "subject=> 4\n",
      "subject=> 5\n"
     ]
    }
   ],
   "source": [
    "for i in range(5,1,-1):\n",
    "    print(\"student\",i)\n",
    "\n",
    "    for j in range(i,6):\n",
    "        print(\"subject=>\",j)"
   ]
  },
  {
   "cell_type": "code",
   "execution_count": 4,
   "id": "bfb270a6-e514-4ce0-b709-65406d9d5fca",
   "metadata": {},
   "outputs": [
    {
     "name": "stdout",
     "output_type": "stream",
     "text": [
      "student 5\n",
      "subject=> 6\n",
      "student 4\n",
      "subject=> 6\n",
      "subject=> 5\n",
      "student 3\n",
      "subject=> 6\n",
      "subject=> 5\n",
      "subject=> 4\n",
      "student 2\n",
      "subject=> 6\n",
      "subject=> 5\n",
      "subject=> 4\n",
      "subject=> 3\n"
     ]
    }
   ],
   "source": [
    "for i in range(5,1,-1):\n",
    "    print(\"student\",i)\n",
    "\n",
    "    for j in range(6,i,-1):\n",
    "        print(\"subject=>\",j)"
   ]
  },
  {
   "cell_type": "code",
   "execution_count": 15,
   "id": "0a043ce2-4804-47a6-ba82-20348a80df53",
   "metadata": {},
   "outputs": [
    {
     "name": "stdout",
     "output_type": "stream",
     "text": [
      "2\n",
      "4\n",
      "6\n",
      "8\n",
      "10\n",
      "12\n",
      "14\n",
      "16\n",
      "18\n",
      "20\n",
      " \n",
      "3\n",
      "6\n",
      "9\n",
      "12\n",
      "15\n",
      "18\n",
      "21\n",
      "24\n",
      "27\n",
      "30\n",
      " \n",
      "4\n",
      "8\n",
      "12\n",
      "16\n",
      "20\n",
      "24\n",
      "28\n",
      "32\n",
      "36\n",
      "40\n",
      " \n",
      "5\n",
      "10\n",
      "15\n",
      "20\n",
      "25\n",
      "30\n",
      "35\n",
      "40\n",
      "45\n",
      "50\n",
      " \n",
      "6\n",
      "12\n",
      "18\n",
      "24\n",
      "30\n",
      "36\n",
      "42\n",
      "48\n",
      "54\n",
      "60\n",
      " \n"
     ]
    }
   ],
   "source": [
    "\n",
    "for i in range(2,7):\n",
    "    for j in range(1,11):\n",
    "        table=i*j\n",
    "        print(table)\n",
    "    print(\" \")\n",
    "    "
   ]
  },
  {
   "cell_type": "code",
   "execution_count": 16,
   "id": "23f5b84c-6eff-4763-b4c7-129e4b7c0d32",
   "metadata": {},
   "outputs": [],
   "source": [
    "# pattern"
   ]
  },
  {
   "cell_type": "code",
   "execution_count": 20,
   "id": "b8cb1160-4a95-4946-a465-992dba97485c",
   "metadata": {},
   "outputs": [
    {
     "name": "stdout",
     "output_type": "stream",
     "text": [
      "1\n",
      "* * * * * \n",
      "2\n",
      "* * * * * \n",
      "3\n",
      "* * * * * \n"
     ]
    }
   ],
   "source": [
    "for i in range(1,4):\n",
    "    print(i)\n",
    "    for j in range(1,6):\n",
    "        print(\"*\", end=\" \")\n",
    "    print(\"\")"
   ]
  },
  {
   "cell_type": "code",
   "execution_count": 19,
   "id": "adeefd17-7374-4b91-9524-8818da1f6fe4",
   "metadata": {},
   "outputs": [
    {
     "name": "stdout",
     "output_type": "stream",
     "text": [
      "* * * * *  \n",
      "* * * * *  \n",
      "* * * * *  \n",
      "* * * * *  \n",
      "* * * * *  \n"
     ]
    }
   ],
   "source": [
    "for i in range(1,6):\n",
    "    for j in range(1,6):\n",
    "        print(\"*\", end=\" \")\n",
    "    print(\" \")\n",
    "    "
   ]
  },
  {
   "cell_type": "code",
   "execution_count": 21,
   "id": "5eebcfd8-c8b2-486f-9bc7-5ba048938aca",
   "metadata": {},
   "outputs": [
    {
     "name": "stdout",
     "output_type": "stream",
     "text": [
      "* * * \n",
      "* * * \n",
      "* * * \n",
      "* * * \n"
     ]
    }
   ],
   "source": [
    "for i in range(1,5):\n",
    "    for j in range(1,4):\n",
    "        print(\"*\", end=\" \")\n",
    "    print(\"\")"
   ]
  },
  {
   "cell_type": "code",
   "execution_count": 22,
   "id": "13f2f7ba-354d-45ee-b0de-65f35cecc0ff",
   "metadata": {},
   "outputs": [
    {
     "name": "stdout",
     "output_type": "stream",
     "text": [
      "1 1 1 \n",
      "2 2 2 \n",
      "3 3 3 \n"
     ]
    }
   ],
   "source": [
    "for i in range(1,4):\n",
    "    for j in range(1,4):\n",
    "        print(i, end=\" \")\n",
    "    print(\"\")"
   ]
  },
  {
   "cell_type": "code",
   "execution_count": 23,
   "id": "126273cd-f287-45de-84e1-cf27501b4fbc",
   "metadata": {},
   "outputs": [
    {
     "name": "stdout",
     "output_type": "stream",
     "text": [
      "2 2 2 2 \n",
      "3 3 3 3 \n",
      "4 4 4 4 \n"
     ]
    }
   ],
   "source": [
    "for i in range(2,5):\n",
    "    for j in range(1,5):\n",
    "        print(i, end=\" \")\n",
    "    print(\"\")"
   ]
  },
  {
   "cell_type": "code",
   "execution_count": 24,
   "id": "f629af67-a16b-4da7-a083-3dc93d814342",
   "metadata": {},
   "outputs": [
    {
     "name": "stdout",
     "output_type": "stream",
     "text": [
      "1 2 3 4 \n",
      "1 2 3 4 \n",
      "1 2 3 4 \n"
     ]
    }
   ],
   "source": [
    "for i in range(1,4):\n",
    "    for j in range(1,5):\n",
    "        print(j, end=\" \")\n",
    "    print(\"\")"
   ]
  },
  {
   "cell_type": "code",
   "execution_count": 25,
   "id": "82998ce6-f6ba-4785-b645-3d959ed4f599",
   "metadata": {},
   "outputs": [
    {
     "name": "stdout",
     "output_type": "stream",
     "text": [
      "4 3 2 1 \n",
      "4 3 2 1 \n",
      "4 3 2 1 \n"
     ]
    }
   ],
   "source": [
    "for i in range(1,4):\n",
    "    for j in range(4,0,-1):\n",
    "        print(j, end=\" \")\n",
    "    print(\"\")"
   ]
  },
  {
   "cell_type": "code",
   "execution_count": 26,
   "id": "b4fec7cf-2d38-4a9c-9da2-a89ba1305df5",
   "metadata": {},
   "outputs": [
    {
     "name": "stdout",
     "output_type": "stream",
     "text": [
      "4 4 4 4 \n",
      "3 3 3 3 \n"
     ]
    }
   ],
   "source": [
    "for i in range(4,2,-1):\n",
    "    for j in range(1,5):\n",
    "        print(i, end=\" \")\n",
    "    print(\"\")"
   ]
  },
  {
   "cell_type": "code",
   "execution_count": 27,
   "id": "d9be5471-d687-4563-9b3b-3b92d17993e8",
   "metadata": {},
   "outputs": [
    {
     "name": "stdout",
     "output_type": "stream",
     "text": [
      "1 2 3 4 \n",
      "5 6 7 8 \n",
      "9 10 11 12 \n"
     ]
    }
   ],
   "source": [
    "n=1\n",
    "for i in range(1,4):\n",
    "    for j in range(1,5):\n",
    "        print(n,end=\" \")\n",
    "        n+=1\n",
    "    print(\"\")"
   ]
  },
  {
   "cell_type": "code",
   "execution_count": 28,
   "id": "7b9df674-e9da-44fe-830d-baae43771697",
   "metadata": {},
   "outputs": [
    {
     "name": "stdout",
     "output_type": "stream",
     "text": [
      "* \n",
      "* * \n",
      "* * * \n",
      "* * * * \n",
      "* * * * * \n"
     ]
    }
   ],
   "source": [
    "for i in range(1,6):\n",
    "    for j in range(1,i+1):\n",
    "        print(\"*\", end=\" \")\n",
    "    print(\"\")"
   ]
  },
  {
   "cell_type": "code",
   "execution_count": 29,
   "id": "b091e7ab-7456-4b76-ac86-a4c56da1d636",
   "metadata": {},
   "outputs": [
    {
     "name": "stdout",
     "output_type": "stream",
     "text": [
      "1 \n",
      "2 2 \n",
      "3 3 3 \n",
      "4 4 4 4 \n"
     ]
    }
   ],
   "source": [
    "for i in range(1,5):\n",
    "    for j in range(1,i+1):\n",
    "        print(i, end=\" \")\n",
    "    print(\"\")"
   ]
  },
  {
   "cell_type": "code",
   "execution_count": 32,
   "id": "2e2f804a-2f4c-4351-bcda-2e8830861631",
   "metadata": {},
   "outputs": [
    {
     "name": "stdout",
     "output_type": "stream",
     "text": [
      "10 \n",
      "11 12 \n",
      "13 14 15 \n"
     ]
    }
   ],
   "source": [
    "n=10\n",
    "for i in range(1,4):\n",
    "    for j in range(1,i+1):\n",
    "        print(n, end=\" \")\n",
    "        n+=1\n",
    "    print(\"\")"
   ]
  },
  {
   "cell_type": "code",
   "execution_count": 33,
   "id": "51fb11c2-ebf7-414a-9583-9ba17d2c6c40",
   "metadata": {},
   "outputs": [
    {
     "name": "stdout",
     "output_type": "stream",
     "text": [
      "15 \n",
      "14 13 \n",
      "12 11 10 \n"
     ]
    }
   ],
   "source": [
    "n=15\n",
    "for i in range(1,4):\n",
    "    for j in range(1,i+1):\n",
    "        print(n, end=\" \")\n",
    "        n-=1\n",
    "    print(\"\")"
   ]
  },
  {
   "cell_type": "code",
   "execution_count": 37,
   "id": "d5589232-2d4f-4ed4-8605-9afe275518df",
   "metadata": {},
   "outputs": [
    {
     "name": "stdout",
     "output_type": "stream",
     "text": [
      "A \n",
      "A B \n",
      "A B C \n"
     ]
    }
   ],
   "source": [
    "\n",
    "for i in range(1,4):\n",
    "    n=65\n",
    "    for j in range(1,i+1):\n",
    "        print(chr(n), end=\" \")\n",
    "        n+=1\n",
    "    print(\"\")"
   ]
  },
  {
   "cell_type": "code",
   "execution_count": null,
   "id": "8c2619f2-3e02-47b1-ad16-282896a3d4e5",
   "metadata": {},
   "outputs": [],
   "source": [
    "for i in range(1,4):\n",
    "    for j in range(65,65+i):\n",
    "        p"
   ]
  }
 ],
 "metadata": {
  "kernelspec": {
   "display_name": "Python 3 (ipykernel)",
   "language": "python",
   "name": "python3"
  },
  "language_info": {
   "codemirror_mode": {
    "name": "ipython",
    "version": 3
   },
   "file_extension": ".py",
   "mimetype": "text/x-python",
   "name": "python",
   "nbconvert_exporter": "python",
   "pygments_lexer": "ipython3",
   "version": "3.13.1"
  }
 },
 "nbformat": 4,
 "nbformat_minor": 5
}
