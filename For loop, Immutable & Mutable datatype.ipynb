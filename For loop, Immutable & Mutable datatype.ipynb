{
 "cells": [
  {
   "cell_type": "code",
   "execution_count": 1,
   "id": "d2a0b0bf-264c-4e55-a68e-c6daeb4162f6",
   "metadata": {},
   "outputs": [
    {
     "name": "stdout",
     "output_type": "stream",
     "text": [
      "140710415567304\n",
      "140710415567304\n"
     ]
    }
   ],
   "source": [
    "# Immutable and Mutable datatypes\n",
    "x=50\n",
    "print(id(x))\n",
    "\n",
    "a=x\n",
    "print(id(a))"
   ]
  },
  {
   "cell_type": "code",
   "execution_count": 2,
   "id": "aaaa4a2b-5740-4b4e-9d50-fc9d9bf0f3d6",
   "metadata": {},
   "outputs": [
    {
     "name": "stdout",
     "output_type": "stream",
     "text": [
      "before change 140710415567304 140710415567304\n",
      "after change 140710415567304 140710415566664\n"
     ]
    }
   ],
   "source": [
    "x=50\n",
    "a=x\n",
    "print(\"before change\", id(x), id(a))\n",
    "a=30\n",
    "print(\"after change\", id(x), id(a))"
   ]
  },
  {
   "cell_type": "code",
   "execution_count": 3,
   "id": "a2196f61-064e-41aa-849d-8c4ec92056ee",
   "metadata": {},
   "outputs": [
    {
     "name": "stdout",
     "output_type": "stream",
     "text": [
      "140710415630304 140710415630304\n"
     ]
    }
   ],
   "source": [
    "add=\"a\"\n",
    "x=add\n",
    "print(id(add), id(x))"
   ]
  },
  {
   "cell_type": "code",
   "execution_count": 4,
   "id": "37453da7-51b3-4b83-94f2-874cf9e96eb6",
   "metadata": {},
   "outputs": [],
   "source": [
    "# For loop\n",
    "# Range( start, stop, [step=1])"
   ]
  },
  {
   "cell_type": "code",
   "execution_count": 6,
   "id": "28d974f8-2f03-48fb-b53f-edc75917369f",
   "metadata": {},
   "outputs": [
    {
     "name": "stdout",
     "output_type": "stream",
     "text": [
      "hey 0\n",
      "hey 1\n",
      "hey 2\n",
      "hey 3\n",
      "hey 4\n"
     ]
    }
   ],
   "source": [
    "for i in range(0,5):\n",
    "    print(\"hey\",i)"
   ]
  },
  {
   "cell_type": "code",
   "execution_count": 8,
   "id": "91a4e1b8-d6f4-4756-b566-431b4aa755fc",
   "metadata": {},
   "outputs": [
    {
     "name": "stdout",
     "output_type": "stream",
     "text": [
      "hii 1\n",
      "hii 3\n",
      "hii 5\n"
     ]
    }
   ],
   "source": [
    "for i in range(1,7,2):\n",
    "    print(\"hii\",i)"
   ]
  },
  {
   "cell_type": "code",
   "execution_count": 9,
   "id": "bbdf9bdd-2a8c-4b17-8b81-1ede3307b005",
   "metadata": {},
   "outputs": [
    {
     "name": "stdout",
     "output_type": "stream",
     "text": [
      "hey 3\n",
      "hey 6\n"
     ]
    }
   ],
   "source": [
    "for i in range(3,9,3):\n",
    "    print(\"hey\",i)"
   ]
  },
  {
   "cell_type": "code",
   "execution_count": 10,
   "id": "70b88e1d-b792-4103-a4d9-ce1650eefa0d",
   "metadata": {},
   "outputs": [
    {
     "name": "stdout",
     "output_type": "stream",
     "text": [
      "hii 9\n",
      "hii 8\n",
      "hii 7\n",
      "hii 6\n",
      "hii 5\n",
      "hii 4\n"
     ]
    }
   ],
   "source": [
    "for i in range(9,3,-1):\n",
    "    print(\"hii\",i)"
   ]
  },
  {
   "cell_type": "code",
   "execution_count": 13,
   "id": "0d4d6717-5c9d-45dc-a65c-a77045d6814c",
   "metadata": {},
   "outputs": [],
   "source": [
    "for i in range(11,13,-1):\n",
    "    print(\"Hii\",i)"
   ]
  },
  {
   "cell_type": "code",
   "execution_count": 15,
   "id": "a457dc62-5138-4c45-ac14-53d618a0d80b",
   "metadata": {},
   "outputs": [
    {
     "name": "stdout",
     "output_type": "stream",
     "text": [
      "even 2\n",
      "odd 3\n",
      "even 4\n",
      "odd 5\n",
      "even 6\n",
      "odd 7\n",
      "even 8\n"
     ]
    }
   ],
   "source": [
    "for num in range(2,9,1):\n",
    "    if(num%2==0):\n",
    "        print(\"even\", num)\n",
    "    else:\n",
    "        print(\"odd\",num)"
   ]
  },
  {
   "cell_type": "code",
   "execution_count": 17,
   "id": "d513be07-2770-4ea7-bba1-c9a09dcde03a",
   "metadata": {},
   "outputs": [
    {
     "name": "stdout",
     "output_type": "stream",
     "text": [
      "2\n",
      "3\n",
      "4\n",
      "5\n",
      "6\n",
      "7\n",
      "8\n",
      "9\n",
      "10\n",
      "11\n",
      "12\n",
      "13\n",
      "14\n",
      "15\n",
      "16\n",
      "17\n",
      "18\n",
      "19\n",
      "20\n"
     ]
    }
   ],
   "source": [
    "for i in range(2,21):\n",
    "    print(i)"
   ]
  },
  {
   "cell_type": "code",
   "execution_count": 18,
   "id": "5de08c8b-3b2a-48f1-b1a0-3c29e5fa5b24",
   "metadata": {},
   "outputs": [
    {
     "name": "stdout",
     "output_type": "stream",
     "text": [
      "97\n",
      "96\n",
      "95\n",
      "94\n",
      "93\n",
      "92\n",
      "91\n",
      "90\n",
      "89\n",
      "88\n",
      "87\n",
      "86\n",
      "85\n",
      "84\n",
      "83\n",
      "82\n",
      "81\n",
      "80\n",
      "79\n",
      "78\n",
      "77\n",
      "76\n",
      "75\n",
      "74\n",
      "73\n",
      "72\n",
      "71\n",
      "70\n",
      "69\n",
      "68\n",
      "67\n",
      "66\n",
      "65\n",
      "64\n",
      "63\n",
      "62\n",
      "61\n",
      "60\n",
      "59\n",
      "58\n",
      "57\n",
      "56\n",
      "55\n"
     ]
    }
   ],
   "source": [
    "for i in range(97,54,-1):\n",
    "    print(i)"
   ]
  },
  {
   "cell_type": "code",
   "execution_count": 19,
   "id": "049ed3e6-69ac-4d56-ac0d-c7fb49b00a70",
   "metadata": {},
   "outputs": [
    {
     "name": "stdout",
     "output_type": "stream",
     "text": [
      "35\n"
     ]
    }
   ],
   "source": [
    "sum=0\n",
    "for num in range(2,9,1):\n",
    "    sum=sum+num\n",
    "print(sum)"
   ]
  },
  {
   "cell_type": "code",
   "execution_count": 20,
   "id": "f5dd23f5-8d9b-40b6-98ec-b8731ed806d0",
   "metadata": {},
   "outputs": [
    {
     "name": "stdout",
     "output_type": "stream",
     "text": [
      "2542\n"
     ]
    }
   ],
   "source": [
    "sum=0\n",
    "for num in range(97,66,-1):\n",
    "    sum=sum+num\n",
    "print(sum)"
   ]
  },
  {
   "cell_type": "code",
   "execution_count": 21,
   "id": "51644a45-9262-41f7-969d-be3c5db5dd02",
   "metadata": {},
   "outputs": [
    {
     "name": "stdout",
     "output_type": "stream",
     "text": [
      "31\n"
     ]
    }
   ],
   "source": [
    "count=0\n",
    "for i in range(7,38,1):\n",
    "    count+=1\n",
    "print(count)"
   ]
  },
  {
   "cell_type": "code",
   "execution_count": 22,
   "id": "48f8427b-bc72-456a-add5-8c3e5d510091",
   "metadata": {},
   "outputs": [
    {
     "name": "stdout",
     "output_type": "stream",
     "text": [
      "672\n"
     ]
    }
   ],
   "source": [
    "sum=0\n",
    "for num in range(11,54):\n",
    "    if(num%2==0):\n",
    "        sum=sum+num\n",
    "print(sum)\n",
    "        "
   ]
  },
  {
   "cell_type": "code",
   "execution_count": 23,
   "id": "0c421320-7dd0-4235-b0dc-c55f1ab407e6",
   "metadata": {},
   "outputs": [
    {
     "name": "stdout",
     "output_type": "stream",
     "text": [
      "j\n",
      "a\n",
      "i\n",
      "p\n",
      "u\n",
      "r\n"
     ]
    }
   ],
   "source": [
    "data=\"jaipur\"\n",
    "for i in data:\n",
    "    print(i)"
   ]
  },
  {
   "cell_type": "code",
   "execution_count": 24,
   "id": "d7b02139-c857-4b07-9dec-c8a9de130ca9",
   "metadata": {},
   "outputs": [
    {
     "name": "stdout",
     "output_type": "stream",
     "text": [
      "0 j\n",
      "1 a\n",
      "2 i\n",
      "3 p\n",
      "4 u\n",
      "5 r\n"
     ]
    }
   ],
   "source": [
    "data=\"jaipur\"\n",
    "for i in range(0,6):\n",
    "    print(i, data[i])"
   ]
  },
  {
   "cell_type": "code",
   "execution_count": 25,
   "id": "11009fc6-58e4-4ad4-b4a9-25d928a35713",
   "metadata": {},
   "outputs": [
    {
     "name": "stdout",
     "output_type": "stream",
     "text": [
      "0 j\n",
      "1 a\n",
      "2 i\n",
      "3 p\n",
      "4 u\n",
      "5 r\n",
      "6  \n",
      "7 r\n",
      "8 a\n",
      "9 j\n",
      "10 a\n",
      "11 s\n",
      "12 t\n",
      "13 h\n",
      "14 a\n",
      "15 n\n"
     ]
    }
   ],
   "source": [
    "data=\"jaipur rajasthan\"\n",
    "for i in range(0,len(data)):\n",
    "    print(i, data[i])"
   ]
  },
  {
   "cell_type": "code",
   "execution_count": null,
   "id": "cad9d299-2989-44f6-8328-f40e3d881ae5",
   "metadata": {},
   "outputs": [],
   "source": []
  }
 ],
 "metadata": {
  "kernelspec": {
   "display_name": "Python 3 (ipykernel)",
   "language": "python",
   "name": "python3"
  },
  "language_info": {
   "codemirror_mode": {
    "name": "ipython",
    "version": 3
   },
   "file_extension": ".py",
   "mimetype": "text/x-python",
   "name": "python",
   "nbconvert_exporter": "python",
   "pygments_lexer": "ipython3",
   "version": "3.13.1"
  }
 },
 "nbformat": 4,
 "nbformat_minor": 5
}
