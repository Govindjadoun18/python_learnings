{
 "cells": [
  {
   "cell_type": "code",
   "execution_count": 4,
   "id": "2f797b8b-1dbb-4cad-a7fd-7d90d5d43fcf",
   "metadata": {},
   "outputs": [
    {
     "name": "stdout",
     "output_type": "stream",
     "text": [
      "* * * * * \n",
      "  * * * * \n",
      "    * * * \n",
      "      * * \n",
      "        * \n"
     ]
    }
   ],
   "source": [
    "num=5\n",
    "for i in range(1, num+1):\n",
    "    for j in range(1,i):\n",
    "        print(\" \", end=\" \")\n",
    "    for k in range(num,i-1,-1):\n",
    "        print(\"*\", end=\" \")\n",
    "    print(\"\")"
   ]
  },
  {
   "cell_type": "code",
   "execution_count": 6,
   "id": "bf1ac2fe-7a39-4ce2-b15f-7259a728ea36",
   "metadata": {},
   "outputs": [
    {
     "name": "stdout",
     "output_type": "stream",
     "text": [
      "* * * * * \n",
      "  *     * \n",
      "    *   * \n",
      "      * * \n",
      "        * \n"
     ]
    }
   ],
   "source": [
    "num=5\n",
    "for i in range(1, num+1):\n",
    "    for j in range(1,i):\n",
    "        print(\" \", end=\" \")\n",
    "    for k in range(i,6):\n",
    "        if(i==1 or k==5 or i==k):\n",
    "            print(\"*\", end=\" \")\n",
    "        else:\n",
    "            print(\" \", end=\" \")\n",
    "    print(\"\")"
   ]
  },
  {
   "cell_type": "code",
   "execution_count": 11,
   "id": "1e60bf60-ab31-450e-afc2-14fa59b1b9bf",
   "metadata": {},
   "outputs": [
    {
     "name": "stdout",
     "output_type": "stream",
     "text": [
      "        * \n",
      "      * * \n",
      "    *   * \n",
      "  *     * \n",
      "* * * * * \n"
     ]
    }
   ],
   "source": [
    "num=5\n",
    "for i in range(1, num+1):\n",
    "    for j in range(i, num):\n",
    "        print(\" \", end=\" \")\n",
    "    for k in range(1,i+1):\n",
    "        if(i==5 or i==k or k==1):\n",
    "            print(\"*\", end=\" \")\n",
    "        else:\n",
    "            print(\" \", end=\" \")\n",
    "        \n",
    "    print(\"\")"
   ]
  },
  {
   "cell_type": "code",
   "execution_count": 17,
   "id": "4f2e4f79-b5e0-47cd-add0-54abd1371ea2",
   "metadata": {},
   "outputs": [
    {
     "name": "stdout",
     "output_type": "stream",
     "text": [
      "        *  \n",
      "      * *  \n",
      "    *   *  \n",
      "  *     *  \n",
      "* * * * *  \n"
     ]
    }
   ],
   "source": [
    "for i in range(5,0,-1):\n",
    "    for j in range(1,i):\n",
    "        print(\" \", end=\" \")\n",
    "    for k in range(5,i-1,-1):\n",
    "        if(i==1 or i==k or k==5):\n",
    "            print(\"*\", end=\" \")\n",
    "        else:\n",
    "            print(\" \", end=\" \")\n",
    "    print(\" \")"
   ]
  },
  {
   "cell_type": "code",
   "execution_count": 19,
   "id": "9b8f5374-0a63-4cd9-b34f-b53b520cbeba",
   "metadata": {},
   "outputs": [
    {
     "name": "stdout",
     "output_type": "stream",
     "text": [
      "5 f\n",
      "4 e\n",
      "3 d\n",
      "2 c\n",
      "1 b\n",
      "0 a\n",
      " fedcba\n"
     ]
    }
   ],
   "source": [
    "data=\"abcdef\"\n",
    "word=\" \"\n",
    "for i in range(5,-1,-1):\n",
    "    print(i, data[i])\n",
    "    word=word+data[i]\n",
    "print(word)"
   ]
  },
  {
   "cell_type": "code",
   "execution_count": 22,
   "id": "0ac6b012-d2bf-4791-8a6f-75948c62540c",
   "metadata": {},
   "outputs": [
    {
     "name": "stdout",
     "output_type": "stream",
     "text": [
      "palindrome\n"
     ]
    }
   ],
   "source": [
    "data=\"\"\n",
    "s=\" \"\n",
    "r=\" \"\n",
    "for i in range(0, len(data ) ):\n",
    "    s+=data[i]\n",
    "for i in range(len(data)-1,-1,-1):\n",
    "    r+=data[i]\n",
    "if(s==r):\n",
    "    print(\"palindrome\")\n",
    "else:\n",
    "    print(\"not palindrome\")"
   ]
  },
  {
   "cell_type": "code",
   "execution_count": null,
   "id": "84b03605-9f13-45b5-8dc6-c4c26dc199fc",
   "metadata": {},
   "outputs": [],
   "source": []
  }
 ],
 "metadata": {
  "kernelspec": {
   "display_name": "Python 3 (ipykernel)",
   "language": "python",
   "name": "python3"
  },
  "language_info": {
   "codemirror_mode": {
    "name": "ipython",
    "version": 3
   },
   "file_extension": ".py",
   "mimetype": "text/x-python",
   "name": "python",
   "nbconvert_exporter": "python",
   "pygments_lexer": "ipython3",
   "version": "3.13.1"
  }
 },
 "nbformat": 4,
 "nbformat_minor": 5
}
