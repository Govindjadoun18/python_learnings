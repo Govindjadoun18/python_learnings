{
 "cells": [
  {
   "cell_type": "code",
   "execution_count": 1,
   "id": "34b464e6-8d69-467d-8a8d-91c98180efad",
   "metadata": {},
   "outputs": [],
   "source": [
    "# while loop\n",
    "# condition (iteration x)\n"
   ]
  },
  {
   "cell_type": "code",
   "execution_count": null,
   "id": "74fff2ff-0088-464b-af8e-113110ad0c6b",
   "metadata": {},
   "outputs": [],
   "source": [
    "i=1\n",
    "while(i==1):\n",
    "    print(\"hey\")\n",
    "# run infinite"
   ]
  },
  {
   "cell_type": "code",
   "execution_count": 2,
   "id": "dc4e875b-8015-4d49-adab-f9cdc6420a62",
   "metadata": {},
   "outputs": [
    {
     "name": "stdout",
     "output_type": "stream",
     "text": [
      "1 hey\n",
      "2 hey\n",
      "3 hey\n",
      "4 hey\n"
     ]
    }
   ],
   "source": [
    "i=1\n",
    "while(i<5):\n",
    "    print(i,\"hey\")\n",
    "    i=i+1"
   ]
  },
  {
   "cell_type": "code",
   "execution_count": 4,
   "id": "a63e429c-f9c3-495d-ae2a-fb3deb0f66c2",
   "metadata": {},
   "outputs": [
    {
     "name": "stdout",
     "output_type": "stream",
     "text": [
      "120\n"
     ]
    }
   ],
   "source": [
    "i=1\n",
    "sum=0\n",
    "while(i<=15):\n",
    "    sum=sum+i\n",
    "    i=i+1\n",
    "print(sum)\n",
    "    "
   ]
  },
  {
   "cell_type": "code",
   "execution_count": 6,
   "id": "5a883142-e6e8-45b0-81cf-618d45308dc0",
   "metadata": {},
   "outputs": [
    {
     "name": "stdout",
     "output_type": "stream",
     "text": [
      "even 50\n",
      "odd 49\n",
      "even 48\n",
      "odd 47\n",
      "even 46\n",
      "odd 45\n",
      "even 44\n",
      "odd 43\n",
      "even 42\n",
      "odd 41\n",
      "even 40\n",
      "odd 39\n",
      "even 38\n",
      "odd 37\n",
      "even 36\n",
      "odd 35\n",
      "even 34\n",
      "odd 33\n",
      "even 32\n",
      "odd 31\n",
      "even 30\n",
      "odd 29\n",
      "even 28\n",
      "odd 27\n",
      "even 26\n",
      "odd 25\n",
      "even 24\n"
     ]
    }
   ],
   "source": [
    "i=50\n",
    "while(i>=24):\n",
    "    if(i%2==0):\n",
    "        print(\"even\",i)\n",
    "    else:\n",
    "        print(\"odd\",i)\n",
    "    i=i-1"
   ]
  },
  {
   "cell_type": "code",
   "execution_count": 7,
   "id": "40ac8f38-e2fb-43f1-87ab-5609f8baff61",
   "metadata": {},
   "outputs": [
    {
     "name": "stdout",
     "output_type": "stream",
     "text": [
      "518\n"
     ]
    }
   ],
   "source": [
    "num=50\n",
    "sum=0\n",
    "while(num>=24):\n",
    "    if(num%2==0):\n",
    "        sum=sum+num\n",
    "    num=num-1\n",
    "print(sum)"
   ]
  },
  {
   "cell_type": "code",
   "execution_count": 5,
   "id": "74bcbc69-b626-4c31-8018-cd8d09c3b23a",
   "metadata": {},
   "outputs": [
    {
     "name": "stdout",
     "output_type": "stream",
     "text": [
      "total number of even number: 18 total number of odd number: 18\n"
     ]
    }
   ],
   "source": [
    "num=2\n",
    "even=0\n",
    "odd=0\n",
    "while(num<=37):\n",
    "    if(num%2==0):\n",
    "        even=even+1\n",
    "    else:\n",
    "        odd=odd+1\n",
    "    num=num+1\n",
    "print(\"total number of even number:\", even, \"total number of odd number:\", odd)\n",
    "        \n",
    "        "
   ]
  },
  {
   "cell_type": "code",
   "execution_count": 9,
   "id": "39d6b18a-46d5-4036-ba69-b4b7b78d38b4",
   "metadata": {},
   "outputs": [
    {
     "name": "stdout",
     "output_type": "stream",
     "text": [
      "315\n"
     ]
    }
   ],
   "source": [
    "num=3\n",
    "sum=0\n",
    "while(num<=42):\n",
    "    if(num%3==0):\n",
    "        sum=sum+num\n",
    "    num=num+1\n",
    "print(sum)"
   ]
  },
  {
   "cell_type": "code",
   "execution_count": 12,
   "id": "006aeb74-b5a3-43ed-a569-7b6c54b4c937",
   "metadata": {},
   "outputs": [
    {
     "name": "stdout",
     "output_type": "stream",
     "text": [
      "896\n",
      "14\n"
     ]
    }
   ],
   "source": [
    "#78 to 51\n",
    "num=78\n",
    "sum=0\n",
    "count=0\n",
    "while(num>=51):\n",
    "    if(num%2!=0):\n",
    "        sum=sum+num\n",
    "        count=count+1\n",
    "    num=num-1\n",
    "print(sum)\n",
    "print(count)"
   ]
  },
  {
   "cell_type": "code",
   "execution_count": 18,
   "id": "3b137ae2-424b-40dc-b3d5-bf3e1fe5d40c",
   "metadata": {},
   "outputs": [
    {
     "name": "stdout",
     "output_type": "stream",
     "text": [
      "it is armstrong number\n"
     ]
    }
   ],
   "source": [
    "# Armsrong Number\n",
    "n=153\n",
    "total=n\n",
    "sum=0\n",
    "while(n>0):\n",
    "    rem= n%10\n",
    "    n= n//10\n",
    "    sum=sum+ rem**3\n",
    "if(total==sum):\n",
    "    print(\"it is armstrong number\")\n",
    "else:\n",
    "    print(\"not a armstrong\")\n",
    "\n",
    "    "
   ]
  },
  {
   "cell_type": "code",
   "execution_count": 21,
   "id": "e6e2575b-8dae-4ec8-8b0a-c0d5c9926565",
   "metadata": {},
   "outputs": [
    {
     "name": "stdout",
     "output_type": "stream",
     "text": [
      "False\n",
      "False\n",
      "False\n",
      "False\n",
      "False\n",
      "False\n",
      "False\n",
      "False\n",
      "False\n",
      "False\n"
     ]
    }
   ],
   "source": [
    "num=3\n",
    "t=1\n",
    "while(t<=10):\n",
    "    table=t*num\n",
    "    t=t+1\n",
    "    print(num*t==table)\n",
    "    "
   ]
  },
  {
   "cell_type": "code",
   "execution_count": null,
   "id": "25412963-e4a6-43a9-981b-70007e1a1ffa",
   "metadata": {},
   "outputs": [],
   "source": []
  }
 ],
 "metadata": {
  "kernelspec": {
   "display_name": "Python 3 (ipykernel)",
   "language": "python",
   "name": "python3"
  },
  "language_info": {
   "codemirror_mode": {
    "name": "ipython",
    "version": 3
   },
   "file_extension": ".py",
   "mimetype": "text/x-python",
   "name": "python",
   "nbconvert_exporter": "python",
   "pygments_lexer": "ipython3",
   "version": "3.13.1"
  }
 },
 "nbformat": 4,
 "nbformat_minor": 5
}
