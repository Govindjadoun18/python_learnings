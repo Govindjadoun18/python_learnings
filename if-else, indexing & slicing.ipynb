{
 "cells": [
  {
   "cell_type": "code",
   "execution_count": 4,
   "id": "24cffb7f-7c8d-484e-8ac6-ebdf47e4edeb",
   "metadata": {},
   "outputs": [
    {
     "name": "stdout",
     "output_type": "stream",
     "text": [
      "Number is divisible by 2\n"
     ]
    }
   ],
   "source": [
    "# nested if-else\n",
    "# divide by 2\n",
    "# 5=> divisible  => Divide by 10\n",
    "num=12\n",
    "if(num%2==0):\n",
    "    print(\"Number is divisible by 2\")\n",
    "    if(num%5==0):\n",
    "        print(\"Number is divisible by 10\")\n",
    "else:\n",
    "    print(\"Number is not divisible by 2\")"
   ]
  },
  {
   "cell_type": "code",
   "execution_count": 12,
   "id": "092d253a-62d3-4863-a4dc-3fa6a67da0e5",
   "metadata": {},
   "outputs": [],
   "source": [
    "# age>=18 and voter_card\n",
    "age=6\n",
    "card=True\n",
    "if(age>=18):\n",
    "    if(card==True):\n",
    "        print(\"you can vote\")\n",
    "    else:\n",
    "        print(\"Eligible for voting\")\n",
    "else:\n",
    "    (\" Not eligible for voting\")"
   ]
  },
  {
   "cell_type": "code",
   "execution_count": 16,
   "id": "dacc092c-5b1c-491d-b9f7-dd975fc727e6",
   "metadata": {},
   "outputs": [
    {
     "name": "stdout",
     "output_type": "stream",
     "text": [
      "both conditions are true\n"
     ]
    }
   ],
   "source": [
    "x=12\n",
    "y=10\n",
    "z=8\n",
    "if(x>y and x>z):\n",
    "    if(x>y and x>z and y>z):\n",
    "        print(\"both conditions are true\")\n",
    "    else:\n",
    "        print(\"x is greater than all\")\n",
    "else:\n",
    "    print(\"non condition is true\")"
   ]
  },
  {
   "cell_type": "code",
   "execution_count": 17,
   "id": "61b9487f-59db-4a4c-ac32-7f6da27ec299",
   "metadata": {},
   "outputs": [
    {
     "data": {
      "text/plain": [
       "'regexsoftware'"
      ]
     },
     "execution_count": 17,
     "metadata": {},
     "output_type": "execute_result"
    }
   ],
   "source": [
    "# string indexing and slicing\n",
    "\n",
    "\"regexsoftware\""
   ]
  },
  {
   "cell_type": "code",
   "execution_count": 18,
   "id": "eda159b7-75ab-4b37-8b0b-dbd682b87059",
   "metadata": {},
   "outputs": [
    {
     "data": {
      "text/plain": [
       "'e'"
      ]
     },
     "execution_count": 18,
     "metadata": {},
     "output_type": "execute_result"
    }
   ],
   "source": [
    "company=\"regexsoftware\"\n",
    "company[3]"
   ]
  },
  {
   "cell_type": "code",
   "execution_count": 19,
   "id": "f23d471d-04af-4f80-9c26-19a94abf8bd8",
   "metadata": {},
   "outputs": [
    {
     "data": {
      "text/plain": [
       "'a'"
      ]
     },
     "execution_count": 19,
     "metadata": {},
     "output_type": "execute_result"
    }
   ],
   "source": [
    "company=\"regexsoftware\"\n",
    "company[-3]"
   ]
  },
  {
   "cell_type": "code",
   "execution_count": 20,
   "id": "4994c5d3-6c3c-4cc1-9091-acc067560a21",
   "metadata": {},
   "outputs": [],
   "source": [
    "# Slicing Operator =>technique[position]"
   ]
  },
  {
   "cell_type": "code",
   "execution_count": 21,
   "id": "7e7a768e-81e2-4208-b761-0dc57f87ff5d",
   "metadata": {},
   "outputs": [
    {
     "data": {
      "text/plain": [
       "'regex'"
      ]
     },
     "execution_count": 21,
     "metadata": {},
     "output_type": "execute_result"
    }
   ],
   "source": [
    "#Slicing =>[start: stopping : [step=1] ]\n",
    "\n",
    "company=\"regexsofware\"\n",
    "company[0:5]"
   ]
  },
  {
   "cell_type": "code",
   "execution_count": 22,
   "id": "f29d841a-1e40-43f2-830d-e21c34dc0d66",
   "metadata": {},
   "outputs": [
    {
     "data": {
      "text/plain": [
       "'gex'"
      ]
     },
     "execution_count": 22,
     "metadata": {},
     "output_type": "execute_result"
    }
   ],
   "source": [
    "company=\"regexsofware\"\n",
    "company[2:5]"
   ]
  },
  {
   "cell_type": "code",
   "execution_count": 23,
   "id": "690b8271-2847-4fc9-8dad-7e1a3426702e",
   "metadata": {},
   "outputs": [
    {
     "data": {
      "text/plain": [
       "'r'"
      ]
     },
     "execution_count": 23,
     "metadata": {},
     "output_type": "execute_result"
    }
   ],
   "source": [
    "company=\"regexsofware\"\n",
    "company[0]"
   ]
  },
  {
   "cell_type": "code",
   "execution_count": 24,
   "id": "b03817dc-8cd5-4aa7-895e-5d24138c0351",
   "metadata": {},
   "outputs": [
    {
     "data": {
      "text/plain": [
       "'regexsofware'"
      ]
     },
     "execution_count": 24,
     "metadata": {},
     "output_type": "execute_result"
    }
   ],
   "source": [
    "company=\"regexsofware\"\n",
    "company[0:]"
   ]
  },
  {
   "cell_type": "code",
   "execution_count": 26,
   "id": "204ed767-c517-4540-a4c2-baf9b96f7002",
   "metadata": {},
   "outputs": [
    {
     "data": {
      "text/plain": [
       "'regex'"
      ]
     },
     "execution_count": 26,
     "metadata": {},
     "output_type": "execute_result"
    }
   ],
   "source": [
    "company=\"regexsofware\"\n",
    "company[:5]  # ending"
   ]
  },
  {
   "cell_type": "code",
   "execution_count": 27,
   "id": "74fdd9a3-1249-48fa-947f-111cf353ef3c",
   "metadata": {},
   "outputs": [
    {
     "data": {
      "text/plain": [
       "'regexsofware'"
      ]
     },
     "execution_count": 27,
     "metadata": {},
     "output_type": "execute_result"
    }
   ],
   "source": [
    "company=\"regexsofware\"\n",
    "company[0:51]"
   ]
  },
  {
   "cell_type": "code",
   "execution_count": 28,
   "id": "304b67fa-e84b-43cc-b6ba-5992f7a5d45d",
   "metadata": {},
   "outputs": [
    {
     "data": {
      "text/plain": [
       "'rgx'"
      ]
     },
     "execution_count": 28,
     "metadata": {},
     "output_type": "execute_result"
    }
   ],
   "source": [
    "company=\"regexsofware\"\n",
    "company[0:5:2]"
   ]
  },
  {
   "cell_type": "code",
   "execution_count": 29,
   "id": "4c62fca5-d8b0-45a9-ad38-789e067b6011",
   "metadata": {},
   "outputs": [
    {
     "data": {
      "text/plain": [
       "'es'"
      ]
     },
     "execution_count": 29,
     "metadata": {},
     "output_type": "execute_result"
    }
   ],
   "source": [
    "company=\"regexsofware\"\n",
    "company[1:7:4]"
   ]
  },
  {
   "cell_type": "code",
   "execution_count": 30,
   "id": "beb52e59-040f-46de-9c49-a524f25b4a05",
   "metadata": {},
   "outputs": [
    {
     "data": {
      "text/plain": [
       "'sxeg'"
      ]
     },
     "execution_count": 30,
     "metadata": {},
     "output_type": "execute_result"
    }
   ],
   "source": [
    "company=\"regexsofware\"\n",
    "company[5:1:-1]"
   ]
  },
  {
   "cell_type": "code",
   "execution_count": 31,
   "id": "513e292e-576b-4000-8c4b-c4cd3bf9be84",
   "metadata": {},
   "outputs": [
    {
     "data": {
      "text/plain": [
       "'eraw'"
      ]
     },
     "execution_count": 31,
     "metadata": {},
     "output_type": "execute_result"
    }
   ],
   "source": [
    "company=\"regexsofware\"\n",
    "company[-1:-5:-1]"
   ]
  },
  {
   "cell_type": "code",
   "execution_count": 33,
   "id": "5431461c-bd7d-4a69-a086-550651621b16",
   "metadata": {},
   "outputs": [
    {
     "data": {
      "text/plain": [
       "''"
      ]
     },
     "execution_count": 33,
     "metadata": {},
     "output_type": "execute_result"
    }
   ],
   "source": [
    "company=\"regexsofware\"\n",
    "company[-4:-1:-1]"
   ]
  },
  {
   "cell_type": "code",
   "execution_count": 34,
   "id": "81548970-5130-4ca4-bdb9-0b3ae4ae20c3",
   "metadata": {},
   "outputs": [
    {
     "data": {
      "text/plain": [
       "'erawfosxeger'"
      ]
     },
     "execution_count": 34,
     "metadata": {},
     "output_type": "execute_result"
    }
   ],
   "source": [
    "company=\"regexsofware\"\n",
    "company[::-1]"
   ]
  },
  {
   "cell_type": "code",
   "execution_count": 42,
   "id": "aa77fae0-a93f-4cbc-813b-fe630203b720",
   "metadata": {},
   "outputs": [
    {
     "data": {
      "text/plain": [
       "9"
      ]
     },
     "execution_count": 42,
     "metadata": {},
     "output_type": "execute_result"
    }
   ],
   "source": [
    "# bitwise operator=> bit means 0 and 1\n",
    "# it works on numbers \n",
    "# 8421(octat)\n",
    "\n",
    "# & operator\n",
    "#            8421\n",
    "#11          1011\n",
    "#13          1101\n",
    " #          ------\n",
    " # &          1001\n",
    " #           8421\n",
    "\n",
    "# bitwise number\n",
    "11 & 13 \n"
   ]
  },
  {
   "cell_type": "code",
   "execution_count": 43,
   "id": "9d3b6ccc-08ca-4845-ab47-b39ee9d12861",
   "metadata": {},
   "outputs": [
    {
     "data": {
      "text/plain": [
       "9"
      ]
     },
     "execution_count": 43,
     "metadata": {},
     "output_type": "execute_result"
    }
   ],
   "source": [
    "9 & 13"
   ]
  },
  {
   "cell_type": "code",
   "execution_count": 44,
   "id": "f631791c-b506-4719-830e-40c3e434d00e",
   "metadata": {},
   "outputs": [
    {
     "data": {
      "text/plain": [
       "12"
      ]
     },
     "execution_count": 44,
     "metadata": {},
     "output_type": "execute_result"
    }
   ],
   "source": [
    "12 & 15"
   ]
  },
  {
   "cell_type": "code",
   "execution_count": 45,
   "id": "a94d7250-43f0-488c-8f1a-070f4ca88076",
   "metadata": {},
   "outputs": [
    {
     "data": {
      "text/plain": [
       "12"
      ]
     },
     "execution_count": 45,
     "metadata": {},
     "output_type": "execute_result"
    }
   ],
   "source": [
    "# bitwise OR operator\n",
    "\n",
    "12 or 15"
   ]
  },
  {
   "cell_type": "code",
   "execution_count": 46,
   "id": "6c62bae6-0457-4a6d-885b-cf9b703cd196",
   "metadata": {},
   "outputs": [
    {
     "data": {
      "text/plain": [
       "11"
      ]
     },
     "execution_count": 46,
     "metadata": {},
     "output_type": "execute_result"
    }
   ],
   "source": [
    "11 or 13"
   ]
  },
  {
   "cell_type": "code",
   "execution_count": null,
   "id": "25575fcf-38aa-47ac-9616-5f7e0ad258b6",
   "metadata": {},
   "outputs": [],
   "source": []
  }
 ],
 "metadata": {
  "kernelspec": {
   "display_name": "Python 3 (ipykernel)",
   "language": "python",
   "name": "python3"
  },
  "language_info": {
   "codemirror_mode": {
    "name": "ipython",
    "version": 3
   },
   "file_extension": ".py",
   "mimetype": "text/x-python",
   "name": "python",
   "nbconvert_exporter": "python",
   "pygments_lexer": "ipython3",
   "version": "3.13.1"
  }
 },
 "nbformat": 4,
 "nbformat_minor": 5
}
