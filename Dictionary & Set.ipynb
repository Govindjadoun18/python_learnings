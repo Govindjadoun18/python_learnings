{
 "cells": [
  {
   "cell_type": "code",
   "execution_count": 9,
   "id": "c6028174-292b-4983-b5c7-2ecea6b6cdd6",
   "metadata": {},
   "outputs": [
    {
     "name": "stdout",
     "output_type": "stream",
     "text": [
      "{10: 'aman', 11: 'govind'}\n",
      "govind\n",
      "{10: 'Yash', 11: 'govind'}\n",
      "{10: 'Yash', 11: 'govind', 12: 'isha'}\n"
     ]
    }
   ],
   "source": [
    "mydictionary={10: \"aman\", 11:\"govind\"}\n",
    "print(mydictionary)\n",
    "\n",
    "print(mydictionary[11])\n",
    "\n",
    "# to change the value\n",
    "mydictionary[10]=\"Yash\"\n",
    "\n",
    "print(mydictionary)\n",
    "\n",
    "# to insert new value\n",
    "mydictionary[12]=\"isha\"\n",
    "\n",
    "print(mydictionary)"
   ]
  },
  {
   "cell_type": "code",
   "execution_count": 13,
   "id": "17fff5d6-0afb-43a1-a456-6cce0cba6098",
   "metadata": {},
   "outputs": [
    {
     "name": "stdout",
     "output_type": "stream",
     "text": [
      "{10: 'aman', 'salary': 248}\n"
     ]
    }
   ],
   "source": [
    "# to update the value\n",
    "mydictionary={10:\"aman\",\"salary\":198}\n",
    "mydictionary[\"salary\"]=mydictionary[\"salary\"]+50\n",
    "\n",
    "print(mydictionary)\n",
    "\n"
   ]
  },
  {
   "cell_type": "code",
   "execution_count": 28,
   "id": "4d43c28b-1675-4068-b0cb-f16b711c3b5d",
   "metadata": {},
   "outputs": [
    {
     "ename": "KeyError",
     "evalue": "2",
     "output_type": "error",
     "traceback": [
      "\u001b[1;31m---------------------------------------------------------------------------\u001b[0m",
      "\u001b[1;31mKeyError\u001b[0m                                  Traceback (most recent call last)",
      "Cell \u001b[1;32mIn[28], line 4\u001b[0m\n\u001b[0;32m      2\u001b[0m mydict\u001b[38;5;241m=\u001b[39m{\u001b[38;5;124m\"\u001b[39m\u001b[38;5;124mtotal\u001b[39m\u001b[38;5;124m\"\u001b[39m:\u001b[38;5;241m0\u001b[39m}\n\u001b[0;32m      3\u001b[0m \u001b[38;5;28;01mfor\u001b[39;00m i \u001b[38;5;129;01min\u001b[39;00m data:\n\u001b[1;32m----> 4\u001b[0m     mydict[total]\u001b[38;5;241m+\u001b[39m\u001b[38;5;241m=\u001b[39m\u001b[38;5;241m1\u001b[39m\n\u001b[0;32m      5\u001b[0m \u001b[38;5;28mprint\u001b[39m(mydict)\n",
      "\u001b[1;31mKeyError\u001b[0m: 2"
     ]
    }
   ],
   "source": [
    "data=\"hello\"\n",
    "mydict={\"total\":0}\n",
    "for i in data:\n",
    "    mydict[total]+=1\n",
    "print(mydict)\n"
   ]
  },
  {
   "cell_type": "code",
   "execution_count": 31,
   "id": "342bef01-ebdd-4f41-b1a4-49016886a536",
   "metadata": {},
   "outputs": [
    {
     "name": "stdout",
     "output_type": "stream",
     "text": [
      "{20, 56, 10, 11, 30}\n",
      "{99, 56, 10, 11, 30}\n"
     ]
    }
   ],
   "source": [
    "myset={10,20,30,11,10,56}\n",
    "print(myset)\n",
    "myset.add(99)\n",
    "myset.discard(20)\n",
    "print(myset)"
   ]
  },
  {
   "cell_type": "code",
   "execution_count": 32,
   "id": "6fe45c68-e8a8-4270-a9d2-97997fde17e7",
   "metadata": {},
   "outputs": [
    {
     "data": {
      "text/plain": [
       "{10, 20, 30, 40, 50, 60}"
      ]
     },
     "execution_count": 32,
     "metadata": {},
     "output_type": "execute_result"
    }
   ],
   "source": [
    "myset1={10,20,30}\n",
    "myset2={40,50,60}\n",
    "myset1.union(myset2)"
   ]
  },
  {
   "cell_type": "code",
   "execution_count": 34,
   "id": "8c47f655-0859-49f5-999d-3051e3409829",
   "metadata": {},
   "outputs": [
    {
     "name": "stdout",
     "output_type": "stream",
     "text": [
      "[10, 20, 30]\n"
     ]
    },
    {
     "data": {
      "text/plain": [
       "[100, 400, 900, 729, 2025]"
      ]
     },
     "execution_count": 34,
     "metadata": {},
     "output_type": "execute_result"
    }
   ],
   "source": [
    "mylist=[10,20]\n",
    "mylist.append(30)\n",
    "print(mylist)\n",
    "\n",
    "[i**2 for i in [10,20,30,27,45]]"
   ]
  },
  {
   "cell_type": "code",
   "execution_count": 35,
   "id": "839c12fd-2e73-4274-9dbd-2b62018f399e",
   "metadata": {},
   "outputs": [
    {
     "data": {
      "text/plain": [
       "{10: 1, 20: 1, 40: 1, 50: 1}"
      ]
     },
     "execution_count": 35,
     "metadata": {},
     "output_type": "execute_result"
    }
   ],
   "source": [
    "{i:1 for i in [10,20,40,50]}"
   ]
  },
  {
   "cell_type": "code",
   "execution_count": 36,
   "id": "dfce6325-9dfa-46f2-8bcb-cf6fd3651345",
   "metadata": {},
   "outputs": [
    {
     "name": "stdout",
     "output_type": "stream",
     "text": [
      "hey user\n"
     ]
    }
   ],
   "source": [
    "# functions\n",
    "# set of statement=> logic execute\n",
    "# code reusability\n",
    "print(\"hey user\")"
   ]
  },
  {
   "cell_type": "code",
   "execution_count": 43,
   "id": "038ed9ba-98b9-4241-b182-9832c1d75028",
   "metadata": {},
   "outputs": [
    {
     "name": "stdout",
     "output_type": "stream",
     "text": [
      "hello Tushar\n"
     ]
    }
   ],
   "source": [
    "def msg(username):\n",
    "    print(\"hello\", username)\n",
    "    \n",
    "\n",
    "msg(\"Tushar\")  "
   ]
  },
  {
   "cell_type": "markdown",
   "id": "d1fcf883-fe54-4e4d-b1be-c898472d39d0",
   "metadata": {},
   "source": [
    "def addno(a,b):\n",
    "    print(a+b)\n",
    "\n",
    "addno(10,20)\n"
   ]
  },
  {
   "cell_type": "code",
   "execution_count": 44,
   "id": "aeecca58-d6a9-4b68-a114-1029f03db947",
   "metadata": {},
   "outputs": [
    {
     "name": "stdout",
     "output_type": "stream",
     "text": [
      "30\n"
     ]
    }
   ],
   "source": [
    "def addno(a,b): print(a+b)\n",
    "\n",
    "addno(10,20)"
   ]
  },
  {
   "cell_type": "code",
   "execution_count": 45,
   "id": "70ea40e5-be46-430e-83d7-30d0119bb03e",
   "metadata": {},
   "outputs": [
    {
     "name": "stdout",
     "output_type": "stream",
     "text": [
      "A=> 10 B=> 45\n"
     ]
    }
   ],
   "source": [
    "def addNO(a,b): #parameter\n",
    "    print(\"A=>\", a ,\"B=>\",b)\n",
    "addNO(10,45) #  argument"
   ]
  },
  {
   "cell_type": "code",
   "execution_count": 46,
   "id": "802de2ad-f291-4870-a3ec-dc20253870c4",
   "metadata": {},
   "outputs": [
    {
     "name": "stdout",
     "output_type": "stream",
     "text": [
      "A=> 45 B=> 10\n"
     ]
    }
   ],
   "source": [
    "def addNO(a,b):\n",
    "    print(\"A=>\", a ,\"B=>\",b)\n",
    "addNO(b=10,a=45) # keyword argument"
   ]
  },
  {
   "cell_type": "code",
   "execution_count": 47,
   "id": "92fe541c-a170-43a1-bb11-244eb0545da5",
   "metadata": {},
   "outputs": [
    {
     "name": "stdout",
     "output_type": "stream",
     "text": [
      "A=> 10 B=> 23\n"
     ]
    }
   ],
   "source": [
    "def addNO(a,b=23):\n",
    "    print(\"A=>\", a ,\"B=>\",b)\n",
    "addNO(10)"
   ]
  },
  {
   "cell_type": "code",
   "execution_count": 48,
   "id": "9dab7dd3-b1b9-46b1-b84b-040ff60f8d71",
   "metadata": {},
   "outputs": [
    {
     "name": "stdout",
     "output_type": "stream",
     "text": [
      "A=> 10 B=> 45\n"
     ]
    }
   ],
   "source": [
    "def addNO(a,b=23):\n",
    "    print(\"A=>\", a ,\"B=>\",b)\n",
    "addNO(10,45)"
   ]
  }
 ],
 "metadata": {
  "kernelspec": {
   "display_name": "Python 3 (ipykernel)",
   "language": "python",
   "name": "python3"
  },
  "language_info": {
   "codemirror_mode": {
    "name": "ipython",
    "version": 3
   },
   "file_extension": ".py",
   "mimetype": "text/x-python",
   "name": "python",
   "nbconvert_exporter": "python",
   "pygments_lexer": "ipython3",
   "version": "3.10.11"
  }
 },
 "nbformat": 4,
 "nbformat_minor": 5
}
