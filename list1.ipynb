{
 "cells": [
  {
   "cell_type": "code",
   "execution_count": 3,
   "id": "93658ca9-f734-47fd-916a-5d6a3f272732",
   "metadata": {},
   "outputs": [
    {
     "name": "stdout",
     "output_type": "stream",
     "text": [
      "10\n",
      "20\n",
      "30\n",
      "40\n"
     ]
    }
   ],
   "source": [
    "# find only integer\n",
    "mylist=[10,20,30,40,'abc']\n",
    "for i in range(0, len(mylist)):\n",
    "    if(type(mylist[i])==int):\n",
    "        print(mylist[i])"
   ]
  },
  {
   "cell_type": "code",
   "execution_count": 10,
   "id": "a3e0bac0-0f7e-4363-be33-466705cd997a",
   "metadata": {},
   "outputs": [
    {
     "name": "stdout",
     "output_type": "stream",
     "text": [
      "89\n"
     ]
    }
   ],
   "source": [
    "# find maximum number in a list\n",
    "mylist=[10,20,30,40,15,67,12,6,89]\n",
    "max=0\n",
    "for i in range(0, len(mylist)):\n",
    "    if(mylist[i]>max):\n",
    "        max=mylist[i]\n",
    "print(max)"
   ]
  },
  {
   "cell_type": "code",
   "execution_count": 16,
   "id": "9c8959a4-d25c-42ce-af37-d90f34c0c778",
   "metadata": {},
   "outputs": [
    {
     "name": "stdout",
     "output_type": "stream",
     "text": [
      "89 67\n"
     ]
    }
   ],
   "source": [
    "# find second maximum number in a list\n",
    "mylist=[10,20,30,40,15,67,12,6,89]\n",
    "max=mylist[0]\n",
    "Smax=0\n",
    "for i in range(0, len(mylist)):\n",
    "    if(mylist[i]>max):\n",
    "        Smax=max\n",
    "        max=mylist[i]\n",
    "    elif(mylist[i]>Smax):\n",
    "        Smax=mylist[i]\n",
    "print(max,Smax)"
   ]
  },
  {
   "cell_type": "code",
   "execution_count": 15,
   "id": "a26c26ce-3247-411c-b37f-975ce0853506",
   "metadata": {},
   "outputs": [
    {
     "name": "stdout",
     "output_type": "stream",
     "text": [
      "289\n"
     ]
    }
   ],
   "source": [
    "# find the sum of list\n",
    "mylist=[10,20,30,40,15,67,12,6,89]\n",
    "sum=0\n",
    "for i in range(0,len(mylist)):\n",
    "    sum=mylist[i]+sum\n",
    "print(sum)    "
   ]
  },
  {
   "cell_type": "code",
   "execution_count": 23,
   "id": "cd5256ea-6b40-43d0-9b0c-e03d3ca45f2a",
   "metadata": {},
   "outputs": [
    {
     "name": "stdout",
     "output_type": "stream",
     "text": [
      "[10, 30, 60, 100, 115, 182, 194, 200, 289]\n"
     ]
    }
   ],
   "source": [
    "# Runing sum\n",
    "mylist=[10,20,30,40,15,67,12,6,89]\n",
    "runing_sum=0\n",
    "result=[]\n",
    "for i in range(0,len(mylist)):\n",
    "    runing_sum+=mylist[i]\n",
    "    result.append(runing_sum)\n",
    "print(result)"
   ]
  },
  {
   "cell_type": "code",
   "execution_count": 28,
   "id": "b6f37a84-8c2b-41ce-9034-5e51f4812daf",
   "metadata": {},
   "outputs": [
    {
     "name": "stdout",
     "output_type": "stream",
     "text": [
      "10 40\n",
      "20 30\n"
     ]
    }
   ],
   "source": [
    "# find two numbers whose sum is 50\n",
    "mylist=[10,20,30,40,15,67,12,6,89]\n",
    "target=50\n",
    "for i in range(len(mylist)):\n",
    "    for j in range(i+1, len(mylist)):\n",
    "        if(mylist[i]+mylist[j]==target):\n",
    "            print(mylist[i], mylist[j])\n",
    "    \n",
    "    "
   ]
  },
  {
   "cell_type": "code",
   "execution_count": 29,
   "id": "416809b4-9452-43ea-9b40-f946c907b9af",
   "metadata": {},
   "outputs": [
    {
     "name": "stdout",
     "output_type": "stream",
     "text": [
      "99\n"
     ]
    }
   ],
   "source": [
    "# practice\n",
    "number=[10,20,4,45,99]\n",
    "max=0\n",
    "for i in range(0, len(number)):\n",
    "    if(number[i]>max):\n",
    "        max=number[i]\n",
    "print(max)"
   ]
  },
  {
   "cell_type": "code",
   "execution_count": 30,
   "id": "b4879fe5-9145-4269-b104-d76c13e74002",
   "metadata": {},
   "outputs": [
    {
     "name": "stdout",
     "output_type": "stream",
     "text": [
      "100\n"
     ]
    }
   ],
   "source": [
    "numbers=[10,20,30,40]\n",
    "sum=0\n",
    "for i in range(0, len(numbers)):\n",
    "    sum=numbers[i]+sum\n",
    "print(sum)"
   ]
  },
  {
   "cell_type": "code",
   "execution_count": 36,
   "id": "dbed07cd-9b91-40de-8992-1b6e21755813",
   "metadata": {},
   "outputs": [
    {
     "name": "stdout",
     "output_type": "stream",
     "text": [
      "[5, 4, 3, 2, 1]\n",
      "5\n"
     ]
    }
   ],
   "source": [
    "# reverse a list\n",
    "numbers=[1,2,3,4,5]\n",
    "reverse_list=[]\n",
    "\n",
    "for i in range(len(numbers)-1,-1,-1):\n",
    "    reverse_list.append(numbers[i])\n",
    "print(reverse_list)\n",
    "\n",
    "    "
   ]
  },
  {
   "cell_type": "code",
   "execution_count": null,
   "id": "a6bce1ae-b00f-4dcc-b7d9-0187fbcd0db6",
   "metadata": {},
   "outputs": [],
   "source": [
    "numbers=[12,6,8,14,56,34,78,23]\n",
    "\n",
    "for i in range(len(numbers)):\n",
    "    for j in range(len(numbers)):\n",
    "        if(numbers[i]<numbers[j]):\n",
    "            temp=numbers[i]\n",
    "            numbers[i]=numbers[j]\n",
    "            numbers[j]=temp\n",
    "print(\"sorted list in ascending order:\", numbers\n",
    "    \n"
   ]
  }
 ],
 "metadata": {
  "kernelspec": {
   "display_name": "Python 3 (ipykernel)",
   "language": "python",
   "name": "python3"
  },
  "language_info": {
   "codemirror_mode": {
    "name": "ipython",
    "version": 3
   },
   "file_extension": ".py",
   "mimetype": "text/x-python",
   "name": "python",
   "nbconvert_exporter": "python",
   "pygments_lexer": "ipython3",
   "version": "3.10.11"
  }
 },
 "nbformat": 4,
 "nbformat_minor": 5
}
