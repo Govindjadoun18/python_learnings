{
 "cells": [
  {
   "cell_type": "code",
   "execution_count": 5,
   "id": "d9062f76-43bc-4406-ba85-61b0d099e03b",
   "metadata": {},
   "outputs": [
    {
     "name": "stdout",
     "output_type": "stream",
     "text": [
      "divisible number 1\n",
      "divisible number 2\n",
      "divisible number 4\n"
     ]
    }
   ],
   "source": [
    "d=1\n",
    "num=8\n",
    "while(d<8):\n",
    "    if(num%d==0):\n",
    "        print(\"divisible number\", d)\n",
    "    d=d+1"
   ]
  },
  {
   "cell_type": "code",
   "execution_count": 6,
   "id": "130ebaa9-c6c2-4913-bef7-8c26162e23e3",
   "metadata": {},
   "outputs": [
    {
     "name": "stdout",
     "output_type": "stream",
     "text": [
      "1\n",
      "2\n",
      "4\n"
     ]
    }
   ],
   "source": [
    "num=8\n",
    "for i in range(1,8):\n",
    "    if(num%i==0):\n",
    "        print(i)"
   ]
  },
  {
   "cell_type": "code",
   "execution_count": 10,
   "id": "c1838d7d-77d3-438c-9a61-ac02d604abf1",
   "metadata": {},
   "outputs": [
    {
     "name": "stdin",
     "output_type": "stream",
     "text": [
      "enter a number 12\n"
     ]
    },
    {
     "name": "stdout",
     "output_type": "stream",
     "text": [
      "factors: 1\n",
      "factors: 2\n",
      "factors: 3\n",
      "factors: 4\n",
      "factors: 6\n",
      "factors: 12\n"
     ]
    }
   ],
   "source": [
    "num= int(input(\"enter a number\"))\n",
    "for i in range(1, num+1):\n",
    "    if(num%i==0):\n",
    "        print(\"factors:\", i)\n"
   ]
  },
  {
   "cell_type": "code",
   "execution_count": 19,
   "id": "1562dc87-09a3-4272-b9dc-cd459a576f3a",
   "metadata": {},
   "outputs": [
    {
     "name": "stdin",
     "output_type": "stream",
     "text": [
      "enter a number 31\n"
     ]
    },
    {
     "name": "stdout",
     "output_type": "stream",
     "text": [
      "Prime Number\n"
     ]
    }
   ],
   "source": [
    "num=int(input(\"enter a number\"))\n",
    "p=0\n",
    "for i in range(2,num):\n",
    "    if(num%i==0):\n",
    "        p=1\n",
    "if(p==0):\n",
    "    print(\"Prime Number\")\n",
    "else:\n",
    "    print(\"Not a Prime Number\")\n",
    "\n",
    "        \n",
    "        \n",
    "    "
   ]
  },
  {
   "cell_type": "code",
   "execution_count": 20,
   "id": "056394b6-aed8-4201-8da5-9e48b745d360",
   "metadata": {},
   "outputs": [
    {
     "name": "stdout",
     "output_type": "stream",
     "text": [
      "the smallest number which will diviide 27 is: 3\n"
     ]
    }
   ],
   "source": [
    "num=27\n",
    "ind=0\n",
    "for i in range(2,11):\n",
    "    if(num%i==0):\n",
    "        ind=1\n",
    "        print(\"the smallest number which will diviide 27 is:\",i)\n",
    "        break\n",
    "        "
   ]
  },
  {
   "cell_type": "code",
   "execution_count": 24,
   "id": "5d5080e2-230d-4b9a-8cb7-45ccfa4d2c37",
   "metadata": {},
   "outputs": [
    {
     "name": "stdin",
     "output_type": "stream",
     "text": [
      "enter a number 12\n"
     ]
    },
    {
     "name": "stdout",
     "output_type": "stream",
     "text": [
      "Total sum of factors : 28\n"
     ]
    }
   ],
   "source": [
    "num=int(input(\"enter a number\"))\n",
    "sum=0\n",
    "for i in range(1,num+1):\n",
    "    if(num%i==0):\n",
    "        sum=sum+i\n",
    "        print(i\n",
    "print(\"Total sum of factors :\", sum)"
   ]
  },
  {
   "cell_type": "code",
   "execution_count": null,
   "id": "ed389166-2a3f-4e8a-9ad8-9e5ddb0017a7",
   "metadata": {},
   "outputs": [],
   "source": []
  }
 ],
 "metadata": {
  "kernelspec": {
   "display_name": "Python 3 (ipykernel)",
   "language": "python",
   "name": "python3"
  },
  "language_info": {
   "codemirror_mode": {
    "name": "ipython",
    "version": 3
   },
   "file_extension": ".py",
   "mimetype": "text/x-python",
   "name": "python",
   "nbconvert_exporter": "python",
   "pygments_lexer": "ipython3",
   "version": "3.13.1"
  }
 },
 "nbformat": 4,
 "nbformat_minor": 5
}
